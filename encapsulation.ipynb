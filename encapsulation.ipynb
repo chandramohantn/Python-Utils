{
 "cells": [
  {
   "cell_type": "code",
   "execution_count": 1,
   "id": "fd6d8be5",
   "metadata": {},
   "outputs": [
    {
     "ename": "AttributeError",
     "evalue": "'Person' object has no attribute '__name'",
     "output_type": "error",
     "traceback": [
      "\u001b[1;31m---------------------------------------------------------------------------\u001b[0m",
      "\u001b[1;31mAttributeError\u001b[0m                            Traceback (most recent call last)",
      "Cell \u001b[1;32mIn[1], line 9\u001b[0m\n\u001b[0;32m      6\u001b[0m         \u001b[38;5;28mself\u001b[39m\u001b[38;5;241m.\u001b[39m__gender \u001b[38;5;241m=\u001b[39m gender\n\u001b[0;32m      8\u001b[0m person_obj \u001b[38;5;241m=\u001b[39m Person(\u001b[38;5;124m\"\u001b[39m\u001b[38;5;124mlearner\u001b[39m\u001b[38;5;124m\"\u001b[39m, \u001b[38;5;241m7\u001b[39m, \u001b[38;5;124m\"\u001b[39m\u001b[38;5;124mM\u001b[39m\u001b[38;5;124m\"\u001b[39m)\n\u001b[1;32m----> 9\u001b[0m \u001b[38;5;28mprint\u001b[39m(\u001b[43mperson_obj\u001b[49m\u001b[38;5;241;43m.\u001b[39;49m\u001b[43m__name\u001b[49m)\n\u001b[0;32m     10\u001b[0m person_obj\u001b[38;5;241m.\u001b[39m__name \u001b[38;5;241m=\u001b[39m \u001b[38;5;124m\"\u001b[39m\u001b[38;5;124mnew_learner\u001b[39m\u001b[38;5;124m\"\u001b[39m\n\u001b[0;32m     11\u001b[0m \u001b[38;5;28mprint\u001b[39m(person_obj\u001b[38;5;241m.\u001b[39m__name)\n",
      "\u001b[1;31mAttributeError\u001b[0m: 'Person' object has no attribute '__name'"
     ]
    }
   ],
   "source": [
    "class Person:\n",
    "    \n",
    "    def __init__(self, name, age, gender):\n",
    "        self.__name = name\n",
    "        self.__age = age\n",
    "        self.__gender = gender\n",
    "    \n",
    "person_obj = Person(\"learner\", 7, \"M\")\n",
    "print(person_obj.__name)\n",
    "person_obj.__name = \"new_learner\"\n",
    "print(person_obj.__name)"
   ]
  },
  {
   "cell_type": "code",
   "execution_count": 2,
   "id": "276f6d68",
   "metadata": {},
   "outputs": [
    {
     "name": "stdout",
     "output_type": "stream",
     "text": [
      "learner\n",
      "new_learner\n"
     ]
    }
   ],
   "source": [
    "class Person:\n",
    "    \n",
    "    def __init__(self, name, age, gender):\n",
    "        self.__name = name\n",
    "        self.__age = age\n",
    "        self.__gender = gender\n",
    "        \n",
    "    def get_name(self):\n",
    "        return self.__name\n",
    "    \n",
    "    def edit_name(self, name):\n",
    "        self.__name = name\n",
    "    \n",
    "person_obj = Person(\"learner\", 7, \"M\")\n",
    "print(person_obj.get_name())\n",
    "person_obj.edit_name(\"new_learner\")\n",
    "print(person_obj.get_name())"
   ]
  },
  {
   "cell_type": "code",
   "execution_count": 3,
   "id": "f725615c",
   "metadata": {},
   "outputs": [
    {
     "name": "stdout",
     "output_type": "stream",
     "text": [
      "learner\n",
      "new_learner\n"
     ]
    }
   ],
   "source": [
    "class Person:\n",
    "    \n",
    "    def __init__(self, name, age, gender):\n",
    "        self.__name = name\n",
    "        self.__age = age\n",
    "        self.__gender = gender\n",
    "        \n",
    "    @property\n",
    "    def name(self):\n",
    "        return self.__name\n",
    "    \n",
    "    @name.setter\n",
    "    def name(self, new_name):\n",
    "        self.__name = new_name\n",
    "    \n",
    "person_obj = Person(\"learner\", 7, \"M\")\n",
    "print(person_obj.name)\n",
    "person_obj.name = \"new_learner\"\n",
    "print(person_obj.name)"
   ]
  },
  {
   "cell_type": "code",
   "execution_count": 4,
   "id": "14c0096c",
   "metadata": {},
   "outputs": [
    {
     "name": "stdout",
     "output_type": "stream",
     "text": [
      "Inside static method\n",
      "learner\n",
      "Inside static method\n",
      "new_learner\n"
     ]
    }
   ],
   "source": [
    "class Person:\n",
    "    \n",
    "    def __init__(self, name, age, gender):\n",
    "        self.__name = name\n",
    "        self.__age = age\n",
    "        self.__gender = gender\n",
    "        \n",
    "    @property\n",
    "    def name(self):\n",
    "        return self.__name\n",
    "    \n",
    "    @name.setter\n",
    "    def name(self, new_name):\n",
    "        self.__name = new_name\n",
    "        \n",
    "    @staticmethod\n",
    "    def static_method():\n",
    "        print(\"Inside static method\")\n",
    "    \n",
    "Person.static_method()\n",
    "person_obj = Person(\"learner\", 7, \"M\")\n",
    "print(person_obj.name)\n",
    "person_obj.static_method()\n",
    "person_obj.name = \"new_learner\"\n",
    "print(person_obj.name)"
   ]
  },
  {
   "cell_type": "code",
   "execution_count": null,
   "id": "7d3ed3c1",
   "metadata": {},
   "outputs": [],
   "source": []
  }
 ],
 "metadata": {
  "kernelspec": {
   "display_name": "Python 3 (ipykernel)",
   "language": "python",
   "name": "python3"
  },
  "language_info": {
   "codemirror_mode": {
    "name": "ipython",
    "version": 3
   },
   "file_extension": ".py",
   "mimetype": "text/x-python",
   "name": "python",
   "nbconvert_exporter": "python",
   "pygments_lexer": "ipython3",
   "version": "3.8.15"
  }
 },
 "nbformat": 4,
 "nbformat_minor": 5
}
