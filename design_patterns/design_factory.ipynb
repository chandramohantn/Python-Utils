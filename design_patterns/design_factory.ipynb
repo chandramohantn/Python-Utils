{
 "cells": [
  {
   "cell_type": "code",
   "execution_count": 1,
   "id": "cedc206f",
   "metadata": {},
   "outputs": [],
   "source": [
    "from abc import ABCMeta, abstractstaticmethod"
   ]
  },
  {
   "cell_type": "code",
   "execution_count": null,
   "id": "5ab12d4b",
   "metadata": {},
   "outputs": [],
   "source": []
  },
  {
   "cell_type": "code",
   "execution_count": 2,
   "id": "39bf90f7",
   "metadata": {},
   "outputs": [],
   "source": [
    "class IPerson:\n",
    "    \n",
    "    @abstractstaticmethod\n",
    "    def person_method():\n",
    "        \"\"\" Implement in child class \"\"\""
   ]
  },
  {
   "cell_type": "code",
   "execution_count": 3,
   "id": "0b595b44",
   "metadata": {},
   "outputs": [],
   "source": [
    "class Teacher(IPerson):\n",
    "    \n",
    "    def __init__(self, name):\n",
    "        self.name = name\n",
    "        \n",
    "    def person_method(self):\n",
    "        print(f\"Teacher name is {self.name}\")"
   ]
  },
  {
   "cell_type": "code",
   "execution_count": 4,
   "id": "583f229f",
   "metadata": {},
   "outputs": [],
   "source": [
    "class Student(IPerson):\n",
    "    \n",
    "    def __init__(self, name):\n",
    "        self.name = name\n",
    "        \n",
    "    def person_method(self):\n",
    "        print(f\"Student name is {self.name}\")"
   ]
  },
  {
   "cell_type": "code",
   "execution_count": 5,
   "id": "f21daecf",
   "metadata": {},
   "outputs": [],
   "source": [
    "class PersonFactory:\n",
    "\n",
    "    @staticmethod\n",
    "    def build(person_type, person_name):\n",
    "        factories = {\n",
    "            'student': Student(person_name),\n",
    "            'teacher': Teacher(person_name)\n",
    "        }\n",
    "        return factories[person_type]"
   ]
  },
  {
   "cell_type": "code",
   "execution_count": 6,
   "id": "bb5b86b0",
   "metadata": {},
   "outputs": [
    {
     "name": "stdout",
     "output_type": "stream",
     "text": [
      "Student name is Handra\n"
     ]
    }
   ],
   "source": [
    "person_type = 'student'\n",
    "person_name = 'Handra'\n",
    "f = PersonFactory.build(person_type, person_name)\n",
    "f.person_method()"
   ]
  },
  {
   "cell_type": "code",
   "execution_count": 7,
   "id": "fe4d8550",
   "metadata": {},
   "outputs": [
    {
     "name": "stdout",
     "output_type": "stream",
     "text": [
      "Teacher name is Moha\n"
     ]
    }
   ],
   "source": [
    "person_type = 'teacher'\n",
    "person_name = 'Moha'\n",
    "f = PersonFactory.build(person_type, person_name)\n",
    "f.person_method()"
   ]
  },
  {
   "cell_type": "code",
   "execution_count": null,
   "id": "679e5690",
   "metadata": {},
   "outputs": [],
   "source": []
  }
 ],
 "metadata": {
  "kernelspec": {
   "display_name": "Python 3 (ipykernel)",
   "language": "python",
   "name": "python3"
  },
  "language_info": {
   "codemirror_mode": {
    "name": "ipython",
    "version": 3
   },
   "file_extension": ".py",
   "mimetype": "text/x-python",
   "name": "python",
   "nbconvert_exporter": "python",
   "pygments_lexer": "ipython3",
   "version": "3.8.15"
  }
 },
 "nbformat": 4,
 "nbformat_minor": 5
}
