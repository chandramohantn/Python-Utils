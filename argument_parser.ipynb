{
 "cells": [
  {
   "cell_type": "code",
   "execution_count": 3,
   "id": "3ac1c411",
   "metadata": {},
   "outputs": [
    {
     "name": "stdout",
     "output_type": "stream",
     "text": [
      "(1, 2, 3, 4, 5)\n",
      "5\n",
      "<class 'tuple'>\n",
      "***********************\n",
      "{'arg1': 1, 'arg2': 2}\n",
      "2\n",
      "<class 'dict'>\n"
     ]
    }
   ],
   "source": [
    "def temp_func(*args, **kwargs):\n",
    "    print(args)\n",
    "    print(len(args))\n",
    "    print(type(args))\n",
    "    print('***********************')\n",
    "    print(kwargs)\n",
    "    print(len(kwargs))\n",
    "    print(type(kwargs))\n",
    "    \n",
    "temp_func(1, 2, 3, 4, 5, arg1=1, arg2=2)"
   ]
  },
  {
   "cell_type": "code",
   "execution_count": null,
   "id": "83823c3c",
   "metadata": {},
   "outputs": [],
   "source": []
  },
  {
   "cell_type": "code",
   "execution_count": 4,
   "id": "bdb69b02",
   "metadata": {},
   "outputs": [
    {
     "name": "stdout",
     "output_type": "stream",
     "text": [
      "1 2 3\n",
      "1 2\n"
     ]
    }
   ],
   "source": [
    "def temp_func(*args, **kwargs):\n",
    "    a, b, c = args\n",
    "    name1 = kwargs['arg1']\n",
    "    name2 = kwargs['arg2']\n",
    "    print(a, b, c)\n",
    "    print(name1, name2)\n",
    "    \n",
    "temp_func(1, 2, 3, arg1=1, arg2=2)"
   ]
  },
  {
   "cell_type": "code",
   "execution_count": null,
   "id": "22f6f7d2",
   "metadata": {},
   "outputs": [],
   "source": []
  },
  {
   "cell_type": "code",
   "execution_count": 7,
   "id": "ee65a058",
   "metadata": {},
   "outputs": [
    {
     "name": "stdout",
     "output_type": "stream",
     "text": [
      "1 var1 ['a', 'b', 'c'] {'key1': 'val1', 'key2': 'val2'}\n",
      "1 var2\n"
     ]
    }
   ],
   "source": [
    "def temp_func(*args, **kwargs):\n",
    "    a, b, c, d = args\n",
    "    name1 = kwargs['arg1']\n",
    "    name2 = kwargs['arg2']\n",
    "    print(a, b, c, d)\n",
    "    print(name1, name2)\n",
    "    \n",
    "temp_func(1, 'var1', ['a', 'b', 'c'], {'key1': 'val1', 'key2': 'val2'}, arg1=1, arg2='var2')"
   ]
  },
  {
   "cell_type": "code",
   "execution_count": null,
   "id": "271722fb",
   "metadata": {},
   "outputs": [],
   "source": []
  }
 ],
 "metadata": {
  "kernelspec": {
   "display_name": "Python 3 (ipykernel)",
   "language": "python",
   "name": "python3"
  },
  "language_info": {
   "codemirror_mode": {
    "name": "ipython",
    "version": 3
   },
   "file_extension": ".py",
   "mimetype": "text/x-python",
   "name": "python",
   "nbconvert_exporter": "python",
   "pygments_lexer": "ipython3",
   "version": "3.8.15"
  }
 },
 "nbformat": 4,
 "nbformat_minor": 5
}
