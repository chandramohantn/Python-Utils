{
 "cells": [
  {
   "cell_type": "code",
   "execution_count": 1,
   "id": "82b71d82",
   "metadata": {},
   "outputs": [],
   "source": [
    "from abc import ABCMeta, abstractstaticmethod"
   ]
  },
  {
   "cell_type": "code",
   "execution_count": null,
   "id": "90f4a648",
   "metadata": {},
   "outputs": [],
   "source": []
  },
  {
   "cell_type": "code",
   "execution_count": 2,
   "id": "d8a7464c",
   "metadata": {},
   "outputs": [],
   "source": [
    "class IPerson:\n",
    "    \n",
    "    @abstractstaticmethod\n",
    "    def person_method():\n",
    "        \"\"\" Implement in child class \"\"\""
   ]
  },
  {
   "cell_type": "code",
   "execution_count": 3,
   "id": "572a9d9c",
   "metadata": {},
   "outputs": [],
   "source": [
    "class Person(IPerson):\n",
    "    \n",
    "    def __init__(self, name):\n",
    "        self.name = name\n",
    "    \n",
    "    def person_method(self):\n",
    "        print(f\"Person name is {self.name}\")"
   ]
  },
  {
   "cell_type": "code",
   "execution_count": 4,
   "id": "825631fa",
   "metadata": {},
   "outputs": [],
   "source": [
    "class ProxyPerson(IPerson):\n",
    "    \n",
    "    def __init__(self, name):\n",
    "        self.person = Person(name)\n",
    "        \n",
    "    def person_method(self):\n",
    "        print(\"I'm proxy\")\n",
    "        self.person.person_method()"
   ]
  },
  {
   "cell_type": "code",
   "execution_count": 5,
   "id": "0644b486",
   "metadata": {},
   "outputs": [
    {
     "name": "stdout",
     "output_type": "stream",
     "text": [
      "I'm proxy\n",
      "Person name is Handra\n"
     ]
    }
   ],
   "source": [
    "person_name = \"Handra\"\n",
    "p1 = ProxyPerson(person_name)\n",
    "p1.person_method()"
   ]
  },
  {
   "cell_type": "code",
   "execution_count": 6,
   "id": "6f4e1cfe",
   "metadata": {},
   "outputs": [
    {
     "name": "stdout",
     "output_type": "stream",
     "text": [
      "I'm proxy\n",
      "Person name is Andr\n"
     ]
    }
   ],
   "source": [
    "person_name = \"Andr\"\n",
    "p2 = ProxyPerson(person_name)\n",
    "p2.person_method()"
   ]
  },
  {
   "cell_type": "code",
   "execution_count": null,
   "id": "35a8edc3",
   "metadata": {},
   "outputs": [],
   "source": []
  }
 ],
 "metadata": {
  "kernelspec": {
   "display_name": "Python 3 (ipykernel)",
   "language": "python",
   "name": "python3"
  },
  "language_info": {
   "codemirror_mode": {
    "name": "ipython",
    "version": 3
   },
   "file_extension": ".py",
   "mimetype": "text/x-python",
   "name": "python",
   "nbconvert_exporter": "python",
   "pygments_lexer": "ipython3",
   "version": "3.8.15"
  }
 },
 "nbformat": 4,
 "nbformat_minor": 5
}
