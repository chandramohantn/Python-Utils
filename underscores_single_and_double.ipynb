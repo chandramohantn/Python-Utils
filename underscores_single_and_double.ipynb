{
 "cells": [
  {
   "cell_type": "markdown",
   "id": "e7108747",
   "metadata": {},
   "source": [
    "## Single Underscore"
   ]
  },
  {
   "cell_type": "code",
   "execution_count": 1,
   "id": "93b58ffa",
   "metadata": {},
   "outputs": [],
   "source": [
    "amount = 1_00_000"
   ]
  },
  {
   "cell_type": "code",
   "execution_count": 2,
   "id": "be72d540",
   "metadata": {},
   "outputs": [
    {
     "data": {
      "text/plain": [
       "100000"
      ]
     },
     "execution_count": 2,
     "metadata": {},
     "output_type": "execute_result"
    }
   ],
   "source": [
    "amount"
   ]
  },
  {
   "cell_type": "code",
   "execution_count": 3,
   "id": "30c7a53b",
   "metadata": {},
   "outputs": [
    {
     "data": {
      "text/plain": [
       "100000"
      ]
     },
     "execution_count": 3,
     "metadata": {},
     "output_type": "execute_result"
    }
   ],
   "source": [
    "_"
   ]
  },
  {
   "cell_type": "code",
   "execution_count": 6,
   "id": "bee006f9",
   "metadata": {},
   "outputs": [
    {
     "name": "stdout",
     "output_type": "stream",
     "text": [
      "5\n",
      "10\n"
     ]
    }
   ],
   "source": [
    "# Leading underscore\n",
    "\n",
    "class TempClass:\n",
    "    def __init__(self):\n",
    "        self.val1 = 5 # public variable\n",
    "        self._val2 = 10 # protected variable\n",
    "        \n",
    "    def get_values(self):\n",
    "        return self.val1, self._val2\n",
    "        \n",
    "# Even though protected variables/functions can be accessed from outside the class, it will if we try to import the class \n",
    "# and access the protected variables/functions from another file. It is a good convention to name such variables/function \n",
    "# with leading underscores\n",
    "\n",
    "class_obj = TempClass()\n",
    "print(class_obj.val1)\n",
    "print(class_obj._val2)\n",
    "\n",
    "# import TempClass as tc\n",
    "# tc_obj = tc()\n",
    "# print(tc_obj.get_values())\n",
    "\n",
    "# The above commented code will fail if called from another python file"
   ]
  },
  {
   "cell_type": "code",
   "execution_count": 8,
   "id": "55e1721c",
   "metadata": {},
   "outputs": [
    {
     "name": "stdout",
     "output_type": "stream",
     "text": [
      "10\n",
      "4\n"
     ]
    }
   ],
   "source": [
    "# Trailing underscore\n",
    "\n",
    "class TempClass:\n",
    "    def __init__(self):\n",
    "        self.def_ = 10\n",
    "        self.val = [1, 2, 3, 4]\n",
    "        \n",
    "    def len_(self):\n",
    "        return len(self.val)\n",
    "    \n",
    "class_obj = TempClass()\n",
    "print(class_obj.def_)\n",
    "print(class_obj.len_())\n",
    "\n",
    "# conflicts with built-in functions and variables can be resolved by using trailing underscores"
   ]
  },
  {
   "cell_type": "code",
   "execution_count": null,
   "id": "85967830",
   "metadata": {},
   "outputs": [],
   "source": []
  },
  {
   "cell_type": "markdown",
   "id": "7994a499",
   "metadata": {},
   "source": [
    "## Double Underscore (dunder)"
   ]
  },
  {
   "cell_type": "code",
   "execution_count": 9,
   "id": "91c46854",
   "metadata": {},
   "outputs": [
    {
     "name": "stdout",
     "output_type": "stream",
     "text": [
      "5\n"
     ]
    },
    {
     "ename": "AttributeError",
     "evalue": "'TempClass' object has no attribute '__val2'",
     "output_type": "error",
     "traceback": [
      "\u001b[1;31m---------------------------------------------------------------------------\u001b[0m",
      "\u001b[1;31mAttributeError\u001b[0m                            Traceback (most recent call last)",
      "Cell \u001b[1;32mIn[9], line 13\u001b[0m\n\u001b[0;32m     11\u001b[0m class_obj \u001b[38;5;241m=\u001b[39m TempClass()\n\u001b[0;32m     12\u001b[0m \u001b[38;5;28mprint\u001b[39m(class_obj\u001b[38;5;241m.\u001b[39mval1)\n\u001b[1;32m---> 13\u001b[0m \u001b[38;5;28mprint\u001b[39m(\u001b[43mclass_obj\u001b[49m\u001b[38;5;241;43m.\u001b[39;49m\u001b[43m__val2\u001b[49m)\n",
      "\u001b[1;31mAttributeError\u001b[0m: 'TempClass' object has no attribute '__val2'"
     ]
    }
   ],
   "source": [
    "## Enforces private\n",
    "\n",
    "class TempClass:\n",
    "    def __init__(self):\n",
    "        self.val1 = 5 # public variable\n",
    "        self.__val2 = 10 # private variable\n",
    "        \n",
    "    def get_values(self):\n",
    "        return self.val1, self.__val2\n",
    "    \n",
    "class_obj = TempClass()\n",
    "print(class_obj.val1)\n",
    "print(class_obj.__val2)"
   ]
  },
  {
   "cell_type": "code",
   "execution_count": 10,
   "id": "8c02876c",
   "metadata": {},
   "outputs": [
    {
     "ename": "AttributeError",
     "evalue": "'TempClass' object has no attribute '__get_values'",
     "output_type": "error",
     "traceback": [
      "\u001b[1;31m---------------------------------------------------------------------------\u001b[0m",
      "\u001b[1;31mAttributeError\u001b[0m                            Traceback (most recent call last)",
      "Cell \u001b[1;32mIn[10], line 10\u001b[0m\n\u001b[0;32m      7\u001b[0m         \u001b[38;5;28;01mreturn\u001b[39;00m \u001b[38;5;28mself\u001b[39m\u001b[38;5;241m.\u001b[39mval1\n\u001b[0;32m      9\u001b[0m class_obj \u001b[38;5;241m=\u001b[39m TempClass()\n\u001b[1;32m---> 10\u001b[0m \u001b[38;5;28mprint\u001b[39m(\u001b[43mclass_obj\u001b[49m\u001b[38;5;241;43m.\u001b[39;49m\u001b[43m__get_values\u001b[49m())\n",
      "\u001b[1;31mAttributeError\u001b[0m: 'TempClass' object has no attribute '__get_values'"
     ]
    }
   ],
   "source": [
    "class TempClass:\n",
    "    def __init__(self):\n",
    "        self.val1 = 5 # public variable\n",
    "        self.__val2 = 10 # private variable\n",
    "        \n",
    "    def __get_values(self):\n",
    "        return self.val1\n",
    "    \n",
    "class_obj = TempClass()\n",
    "print(class_obj.__get_values())"
   ]
  },
  {
   "cell_type": "code",
   "execution_count": null,
   "id": "0d7b89f7",
   "metadata": {},
   "outputs": [],
   "source": []
  },
  {
   "cell_type": "code",
   "execution_count": null,
   "id": "7447eb0e",
   "metadata": {},
   "outputs": [],
   "source": []
  }
 ],
 "metadata": {
  "kernelspec": {
   "display_name": "Python 3 (ipykernel)",
   "language": "python",
   "name": "python3"
  },
  "language_info": {
   "codemirror_mode": {
    "name": "ipython",
    "version": 3
   },
   "file_extension": ".py",
   "mimetype": "text/x-python",
   "name": "python",
   "nbconvert_exporter": "python",
   "pygments_lexer": "ipython3",
   "version": "3.8.15"
  }
 },
 "nbformat": 4,
 "nbformat_minor": 5
}
