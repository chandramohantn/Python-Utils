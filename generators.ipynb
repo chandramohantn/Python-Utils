{
 "cells": [
  {
   "cell_type": "code",
   "execution_count": 4,
   "id": "16bce3a5",
   "metadata": {},
   "outputs": [],
   "source": [
    "import sys"
   ]
  },
  {
   "cell_type": "code",
   "execution_count": null,
   "id": "f3a38cc9",
   "metadata": {},
   "outputs": [],
   "source": []
  },
  {
   "cell_type": "code",
   "execution_count": 5,
   "id": "301f4ad5",
   "metadata": {},
   "outputs": [
    {
     "name": "stdout",
     "output_type": "stream",
     "text": [
      "87616\n",
      "0\n",
      "1\n",
      "2\n"
     ]
    }
   ],
   "source": [
    "def get_iter_values(n):\n",
    "    values = []\n",
    "    for i in range(n):\n",
    "        values.append(i)\n",
    "    return values\n",
    "\n",
    "values = get_iter_values(10000)\n",
    "print(sys.getsizeof(values))\n",
    "\n",
    "print(values[0])\n",
    "print(values[1])\n",
    "print(values[2])"
   ]
  },
  {
   "cell_type": "code",
   "execution_count": null,
   "id": "20a6234a",
   "metadata": {},
   "outputs": [],
   "source": []
  },
  {
   "cell_type": "code",
   "execution_count": 6,
   "id": "9004afc8",
   "metadata": {},
   "outputs": [
    {
     "name": "stdout",
     "output_type": "stream",
     "text": [
      "112\n",
      "0\n",
      "1\n",
      "2\n"
     ]
    }
   ],
   "source": [
    "def get_genr_values(n):\n",
    "    for i in range(n):\n",
    "        yield i\n",
    "        \n",
    "values = get_genr_values(10000)\n",
    "print(sys.getsizeof(values))\n",
    "\n",
    "print(next(values))\n",
    "print(next(values))\n",
    "print(next(values))"
   ]
  },
  {
   "cell_type": "code",
   "execution_count": null,
   "id": "d431d168",
   "metadata": {},
   "outputs": [],
   "source": []
  },
  {
   "cell_type": "markdown",
   "id": "cbf372bd",
   "metadata": {},
   "source": [
    "## Practical usecase"
   ]
  },
  {
   "cell_type": "code",
   "execution_count": 10,
   "id": "f676ef07",
   "metadata": {},
   "outputs": [
    {
     "name": "stdout",
     "output_type": "stream",
     "text": [
      "112\n",
      "0\n",
      "1\n",
      "2\n",
      "3\n",
      "4\n",
      "***********************\n",
      "5\n",
      "6\n",
      "7\n",
      "8\n",
      "9\n",
      "10\n",
      "11\n"
     ]
    }
   ],
   "source": [
    "def infinte_sequence():\n",
    "    number = 0\n",
    "    while True:\n",
    "        yield number\n",
    "        number = number + 1\n",
    "        \n",
    "values = infinte_sequence()\n",
    "print(sys.getsizeof(values))\n",
    "\n",
    "print(next(values))\n",
    "print(next(values))\n",
    "print(next(values))\n",
    "print(next(values))\n",
    "print(next(values))\n",
    "print('***********************')\n",
    "\n",
    "for val in values:\n",
    "    print(val)\n",
    "    if val > 10:\n",
    "        break"
   ]
  },
  {
   "cell_type": "code",
   "execution_count": null,
   "id": "02bf8330",
   "metadata": {},
   "outputs": [],
   "source": []
  }
 ],
 "metadata": {
  "kernelspec": {
   "display_name": "Python 3 (ipykernel)",
   "language": "python",
   "name": "python3"
  },
  "language_info": {
   "codemirror_mode": {
    "name": "ipython",
    "version": 3
   },
   "file_extension": ".py",
   "mimetype": "text/x-python",
   "name": "python",
   "nbconvert_exporter": "python",
   "pygments_lexer": "ipython3",
   "version": "3.8.15"
  }
 },
 "nbformat": 4,
 "nbformat_minor": 5
}
