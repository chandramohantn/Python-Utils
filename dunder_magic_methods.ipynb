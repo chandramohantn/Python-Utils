{
 "cells": [
  {
   "cell_type": "markdown",
   "id": "22a14f62",
   "metadata": {},
   "source": [
    "## __ new __"
   ]
  },
  {
   "cell_type": "code",
   "execution_count": 1,
   "id": "d00685a1",
   "metadata": {},
   "outputs": [
    {
     "name": "stdout",
     "output_type": "stream",
     "text": [
      "Inside __new__() method\n"
     ]
    }
   ],
   "source": [
    "class TempClass:\n",
    "    \n",
    "    def __new__(cls, *args, **kwargs):\n",
    "        print(\"Inside __new__() method\")\n",
    "        return super().__new__(cls)\n",
    "    \n",
    "class_obj = TempClass(10)"
   ]
  },
  {
   "cell_type": "code",
   "execution_count": 4,
   "id": "e016a252",
   "metadata": {},
   "outputs": [
    {
     "name": "stdout",
     "output_type": "stream",
     "text": [
      "Inside __new__() method\n",
      "Inside inp method\n",
      "100\n"
     ]
    }
   ],
   "source": [
    "class TempClass:\n",
    "    \n",
    "    def __new__(cls, val):\n",
    "        print(\"Inside __new__() method\")\n",
    "        instance = super().__new__(cls)\n",
    "        instance.inp(val)\n",
    "    \n",
    "    def inp(self, val):\n",
    "        print(\"Inside inp method\")\n",
    "        print(val * 10)\n",
    "    \n",
    "class_obj = TempClass(10)"
   ]
  },
  {
   "cell_type": "code",
   "execution_count": 6,
   "id": "e77067b7",
   "metadata": {},
   "outputs": [
    {
     "name": "stdout",
     "output_type": "stream",
     "text": [
      "Inside __new__() method\n",
      "Inside inp method\n",
      "100\n",
      "Inside __init__() method\n"
     ]
    }
   ],
   "source": [
    "class TempClass:\n",
    "    \n",
    "    def __new__(cls, val):\n",
    "        print(\"Inside __new__() method\")\n",
    "        instance = super().__new__(cls)\n",
    "        instance.inp(val)\n",
    "        instance.__init__(val)\n",
    "    \n",
    "    def __init__(self, val):\n",
    "        print(\"Inside __init__() method\")\n",
    "        self.val = val\n",
    "    \n",
    "    def inp(self, val):\n",
    "        print(\"Inside inp method\")\n",
    "        print(val * 10)\n",
    "    \n",
    "class_obj = TempClass(10)"
   ]
  },
  {
   "cell_type": "code",
   "execution_count": null,
   "id": "938792ab",
   "metadata": {},
   "outputs": [],
   "source": []
  },
  {
   "cell_type": "code",
   "execution_count": null,
   "id": "4baab5e1",
   "metadata": {},
   "outputs": [],
   "source": []
  },
  {
   "cell_type": "markdown",
   "id": "4fb122ee",
   "metadata": {},
   "source": [
    "## __ init __"
   ]
  },
  {
   "cell_type": "code",
   "execution_count": 3,
   "id": "5be04b1e",
   "metadata": {},
   "outputs": [
    {
     "name": "stdout",
     "output_type": "stream",
     "text": [
      "Inside __new__() method\n",
      "Inside __init__() method\n",
      "10\n"
     ]
    }
   ],
   "source": [
    "class TempClass:\n",
    "    \n",
    "    def __new__(cls, *args, **kwargs):\n",
    "        print(\"Inside __new__() method\")\n",
    "        return super().__new__(cls)\n",
    "    \n",
    "    def __init__(self, val):\n",
    "        print(\"Inside __init__() method\")\n",
    "        self.val = val\n",
    "        \n",
    "class_obj = TempClass(10)\n",
    "print(class_obj.val)"
   ]
  },
  {
   "cell_type": "code",
   "execution_count": null,
   "id": "e6a845ae",
   "metadata": {},
   "outputs": [],
   "source": []
  },
  {
   "cell_type": "markdown",
   "id": "d5e2f34b",
   "metadata": {},
   "source": [
    "## __ call __"
   ]
  },
  {
   "cell_type": "code",
   "execution_count": 9,
   "id": "4882b954",
   "metadata": {},
   "outputs": [
    {
     "name": "stdout",
     "output_type": "stream",
     "text": [
      "Inside __new__() method\n",
      "Inside __init__() method\n",
      "************************\n",
      "Inside __call__() method\n",
      "20\n"
     ]
    }
   ],
   "source": [
    "class TempClass:\n",
    "    \n",
    "    def __new__(cls, *args, **kwargs):\n",
    "        print(\"Inside __new__() method\")\n",
    "        return super().__new__(cls)\n",
    "    \n",
    "    def __init__(self, val):\n",
    "        print(\"Inside __init__() method\")\n",
    "        self.val = val\n",
    "        \n",
    "    def __call__(self):\n",
    "        print(\"Inside __call__() method\")\n",
    "        print(self.val * 2)\n",
    "        \n",
    "class_obj = TempClass(10)\n",
    "print(\"************************\")\n",
    "class_obj()"
   ]
  },
  {
   "cell_type": "code",
   "execution_count": 10,
   "id": "26f611b0",
   "metadata": {},
   "outputs": [
    {
     "name": "stdout",
     "output_type": "stream",
     "text": [
      "Inside __new__() method\n",
      "Inside __init__() method\n",
      "************************\n",
      "Inside __call__() method\n",
      "200\n"
     ]
    }
   ],
   "source": [
    "class TempClass:\n",
    "    \n",
    "    def __new__(cls, *args, **kwargs):\n",
    "        print(\"Inside __new__() method\")\n",
    "        return super().__new__(cls)\n",
    "    \n",
    "    def __init__(self, val):\n",
    "        print(\"Inside __init__() method\")\n",
    "        self.val = val\n",
    "        \n",
    "    def __call__(self, new_val):\n",
    "        print(\"Inside __call__() method\")\n",
    "        print(self.val * new_val)\n",
    "        \n",
    "class_obj = TempClass(10)\n",
    "print(\"************************\")\n",
    "class_obj(20)"
   ]
  },
  {
   "cell_type": "code",
   "execution_count": null,
   "id": "b62e4e38",
   "metadata": {},
   "outputs": [],
   "source": []
  },
  {
   "cell_type": "markdown",
   "id": "d8f1e3ce",
   "metadata": {},
   "source": [
    "## callable"
   ]
  },
  {
   "cell_type": "code",
   "execution_count": 15,
   "id": "bc9457fd",
   "metadata": {},
   "outputs": [
    {
     "name": "stdout",
     "output_type": "stream",
     "text": [
      "Inside __new__() method\n",
      "Inside __init__() method\n",
      "**************************\n",
      "TempClass callable: True\n",
      "class_obj callable False\n"
     ]
    }
   ],
   "source": [
    "class TempClass:\n",
    "    \n",
    "    def __new__(cls, *args, **kwargs):\n",
    "        print(\"Inside __new__() method\")\n",
    "        return super().__new__(cls)\n",
    "    \n",
    "    def __init__(self, val):\n",
    "        print(\"Inside __init__() method\")\n",
    "        self.val = val\n",
    "        \n",
    "class_obj = TempClass(10)\n",
    "print(\"**************************\")\n",
    "print('TempClass callable:', callable(TempClass))\n",
    "print('class_obj callable', callable(class_obj))"
   ]
  },
  {
   "cell_type": "code",
   "execution_count": 16,
   "id": "76a862dd",
   "metadata": {},
   "outputs": [
    {
     "name": "stdout",
     "output_type": "stream",
     "text": [
      "Inside __new__() method\n",
      "Inside __init__() method\n",
      "**************************\n",
      "TempClass callable: True\n",
      "class_obj callable True\n"
     ]
    }
   ],
   "source": [
    "class TempClass:\n",
    "    \n",
    "    def __new__(cls, *args, **kwargs):\n",
    "        print(\"Inside __new__() method\")\n",
    "        return super().__new__(cls)\n",
    "    \n",
    "    def __init__(self, val):\n",
    "        print(\"Inside __init__() method\")\n",
    "        self.val = val\n",
    "        \n",
    "    def __call__(self, new_val):\n",
    "        print(\"Inside __call__() method\")\n",
    "        print(self.val * new_val)\n",
    "        \n",
    "class_obj = TempClass(10)\n",
    "print(\"**************************\")\n",
    "print('TempClass callable:', callable(TempClass))\n",
    "print('class_obj callable', callable(class_obj))"
   ]
  },
  {
   "cell_type": "code",
   "execution_count": null,
   "id": "e317bc7e",
   "metadata": {},
   "outputs": [],
   "source": []
  },
  {
   "cell_type": "code",
   "execution_count": null,
   "id": "838b1a62",
   "metadata": {},
   "outputs": [],
   "source": []
  }
 ],
 "metadata": {
  "kernelspec": {
   "display_name": "Python 3 (ipykernel)",
   "language": "python",
   "name": "python3"
  },
  "language_info": {
   "codemirror_mode": {
    "name": "ipython",
    "version": 3
   },
   "file_extension": ".py",
   "mimetype": "text/x-python",
   "name": "python",
   "nbconvert_exporter": "python",
   "pygments_lexer": "ipython3",
   "version": "3.8.15"
  }
 },
 "nbformat": 4,
 "nbformat_minor": 5
}
