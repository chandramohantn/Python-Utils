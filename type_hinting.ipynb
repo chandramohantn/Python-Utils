{
 "cells": [
  {
   "cell_type": "code",
   "execution_count": 21,
   "id": "7180c1c8",
   "metadata": {},
   "outputs": [],
   "source": [
    "from typing import List, Dict, Union, Optional, TypeVar"
   ]
  },
  {
   "cell_type": "code",
   "execution_count": null,
   "id": "7ef236c8",
   "metadata": {},
   "outputs": [],
   "source": []
  },
  {
   "cell_type": "code",
   "execution_count": 5,
   "id": "7f70bc58",
   "metadata": {},
   "outputs": [
    {
     "name": "stdout",
     "output_type": "stream",
     "text": [
      "learner\n",
      "7\n",
      "['a', 'b', 'c', 'd']\n",
      "17\n"
     ]
    }
   ],
   "source": [
    "def temp_func(name: str, age: int, courses: List[str]) -> int:\n",
    "    print(name)\n",
    "    print(age)\n",
    "    print(courses)\n",
    "    return age + 10\n",
    "\n",
    "print(temp_func('learner', 7, ['a', 'b', 'c', 'd']))"
   ]
  },
  {
   "cell_type": "code",
   "execution_count": 6,
   "id": "4bf7f583",
   "metadata": {},
   "outputs": [
    {
     "data": {
      "text/plain": [
       "[[1, 2], [2, 3]]"
      ]
     },
     "execution_count": 6,
     "metadata": {},
     "output_type": "execute_result"
    }
   ],
   "source": [
    "matrix: List[List[int]] = [[1, 2], [2, 3]]\n",
    "matrix"
   ]
  },
  {
   "cell_type": "code",
   "execution_count": 12,
   "id": "42d578f1",
   "metadata": {},
   "outputs": [
    {
     "data": {
      "text/plain": [
       "{'age': 10}"
      ]
     },
     "execution_count": 12,
     "metadata": {},
     "output_type": "execute_result"
    }
   ],
   "source": [
    "dictionary: Dict[str, int] = {\n",
    "    'age': 10\n",
    "}\n",
    "dictionary"
   ]
  },
  {
   "cell_type": "code",
   "execution_count": 18,
   "id": "42f00659",
   "metadata": {},
   "outputs": [
    {
     "data": {
      "text/plain": [
       "{'employee_id': 1, 'employees_under': [1, 5, 7], 'manager_id': 'employee_id'}"
      ]
     },
     "execution_count": 18,
     "metadata": {},
     "output_type": "execute_result"
    }
   ],
   "source": [
    "# Use union for multiple data types\n",
    "\n",
    "all_details: Dict[str, Union[int, str, List[int]]] = {\n",
    "    \"employee_id\": 1,\n",
    "    \"employees_under\": [1, 5, 7],\n",
    "    \"manager_id\": \"employee_id\"\n",
    "}\n",
    "    \n",
    "all_details"
   ]
  },
  {
   "cell_type": "code",
   "execution_count": null,
   "id": "6efe925e",
   "metadata": {},
   "outputs": [],
   "source": []
  },
  {
   "cell_type": "code",
   "execution_count": 20,
   "id": "2f9b764a",
   "metadata": {},
   "outputs": [
    {
     "data": {
      "text/plain": [
       "{'employee_details': {'employee_id': 1},\n",
       " 'manager_details': {'employees_under': [1, 5, 7]},\n",
       " 'connection_details': {'manager_id': 'employee_id'}}"
      ]
     },
     "execution_count": 20,
     "metadata": {},
     "output_type": "execute_result"
    }
   ],
   "source": [
    "# Custom types\n",
    "\n",
    "emp_role = Dict[str, int]\n",
    "manager_role = Dict[str, List[int]]\n",
    "connection = Dict[str, str]\n",
    "\n",
    "all_details: Dict[str, Union[emp_role, manager_role, connection]] = {\n",
    "    'employee_details': {\"employee_id\": 1},\n",
    "    'manager_details': {\"employees_under\": [1, 5, 7]},\n",
    "    'connection_details': {\"manager_id\": \"employee_id\"}\n",
    "}\n",
    "    \n",
    "all_details"
   ]
  },
  {
   "cell_type": "code",
   "execution_count": null,
   "id": "393b6321",
   "metadata": {},
   "outputs": [],
   "source": []
  },
  {
   "cell_type": "code",
   "execution_count": 24,
   "id": "d5c0fec8",
   "metadata": {},
   "outputs": [
    {
     "name": "stdout",
     "output_type": "stream",
     "text": [
      "{'a': 1, 'b': 2, 'c': 3} 10\n",
      "{'a': 1, 'b': 2, 'c': 3} hello\n"
     ]
    }
   ],
   "source": [
    "# Runtime data type assignment\n",
    "\n",
    "K = TypeVar('K')\n",
    "V = TypeVar('V')\n",
    "\n",
    "def print_dict(d: Dict[K, V], v: V) -> None:\n",
    "    print(d, v)\n",
    "    \n",
    "print_dict({\"a\": 1, \"b\": 2, \"c\": 3}, 10)\n",
    "print_dict({\"a\": 1, \"b\": 2, \"c\": 3}, \"hello\") # This statement should fail (if we try to validate using mypy)"
   ]
  },
  {
   "cell_type": "code",
   "execution_count": null,
   "id": "319ad956",
   "metadata": {},
   "outputs": [],
   "source": []
  },
  {
   "cell_type": "code",
   "execution_count": null,
   "id": "3378b1ef",
   "metadata": {},
   "outputs": [],
   "source": []
  }
 ],
 "metadata": {
  "kernelspec": {
   "display_name": "Python 3 (ipykernel)",
   "language": "python",
   "name": "python3"
  },
  "language_info": {
   "codemirror_mode": {
    "name": "ipython",
    "version": 3
   },
   "file_extension": ".py",
   "mimetype": "text/x-python",
   "name": "python",
   "nbconvert_exporter": "python",
   "pygments_lexer": "ipython3",
   "version": "3.9.13"
  }
 },
 "nbformat": 4,
 "nbformat_minor": 5
}
