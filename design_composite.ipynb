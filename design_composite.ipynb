{
 "cells": [
  {
   "cell_type": "code",
   "execution_count": 1,
   "id": "52de2b94",
   "metadata": {},
   "outputs": [],
   "source": [
    "from abc import ABCMeta, abstractstaticmethod, abstractmethod"
   ]
  },
  {
   "cell_type": "code",
   "execution_count": null,
   "id": "fe23410d",
   "metadata": {},
   "outputs": [],
   "source": []
  },
  {
   "cell_type": "code",
   "execution_count": 2,
   "id": "fef2fa48",
   "metadata": {},
   "outputs": [],
   "source": [
    "class IDepartment:\n",
    "    \n",
    "    @abstractmethod\n",
    "    def __init__(self):\n",
    "        \"\"\" Implement in child class \"\"\"\n",
    "        \n",
    "    @abstractstaticmethod\n",
    "    def print_department():\n",
    "        \"\"\" Implement in child class \"\"\""
   ]
  },
  {
   "cell_type": "code",
   "execution_count": 3,
   "id": "bf415308",
   "metadata": {},
   "outputs": [],
   "source": [
    "class Accounting(IDepartment):\n",
    "    \n",
    "    def __init__(self, employees):\n",
    "        self.employees = employees\n",
    "        \n",
    "    def print_department(self):\n",
    "        print(f\"Accounting department: {self.employees}\")"
   ]
  },
  {
   "cell_type": "code",
   "execution_count": 4,
   "id": "db2de179",
   "metadata": {},
   "outputs": [],
   "source": [
    "class Developer(IDepartment):\n",
    "    \n",
    "    def __init__(self, employees):\n",
    "        self.employees = employees\n",
    "        \n",
    "    def print_department(self):\n",
    "        print(f\"Developer department: {self.employees}\")"
   ]
  },
  {
   "cell_type": "code",
   "execution_count": 5,
   "id": "9fd9a360",
   "metadata": {},
   "outputs": [],
   "source": [
    "class ParentDepartment(IDepartment):\n",
    "    \n",
    "    def __init__(self, employees):\n",
    "        self.employees = employees\n",
    "        self.base_employees = employees\n",
    "        self.sub_depts = []\n",
    "        \n",
    "    def add(self, dept):\n",
    "        self.sub_depts.append(dept)\n",
    "        self.employees += dept.employees\n",
    "        \n",
    "    def print_department(self):\n",
    "        print(\"Parent department\")\n",
    "        print(f\"Parent department - Base employees: {self.base_employees}\")\n",
    "        for dept in self.sub_depts:\n",
    "            dept.print_department()\n",
    "        print(f\"Total number of employees: {self.employees}\")"
   ]
  },
  {
   "cell_type": "code",
   "execution_count": 6,
   "id": "4ddd3bf7",
   "metadata": {},
   "outputs": [],
   "source": [
    "dep1 = Accounting(100)\n",
    "dep2 = Developer(200)\n",
    "dep3 = ParentDepartment(50)"
   ]
  },
  {
   "cell_type": "code",
   "execution_count": 7,
   "id": "cfc083ff",
   "metadata": {},
   "outputs": [
    {
     "name": "stdout",
     "output_type": "stream",
     "text": [
      "Parent department\n",
      "Parent department - Base employees: 50\n",
      "Accounting department: 100\n",
      "Developer department: 200\n",
      "Total number of employees: 350\n"
     ]
    }
   ],
   "source": [
    "dep3.add(dep1)\n",
    "dep3.add(dep2)\n",
    "dep3.print_department()"
   ]
  },
  {
   "cell_type": "code",
   "execution_count": null,
   "id": "54d1f103",
   "metadata": {},
   "outputs": [],
   "source": []
  }
 ],
 "metadata": {
  "kernelspec": {
   "display_name": "Python 3 (ipykernel)",
   "language": "python",
   "name": "python3"
  },
  "language_info": {
   "codemirror_mode": {
    "name": "ipython",
    "version": 3
   },
   "file_extension": ".py",
   "mimetype": "text/x-python",
   "name": "python",
   "nbconvert_exporter": "python",
   "pygments_lexer": "ipython3",
   "version": "3.8.15"
  }
 },
 "nbformat": 4,
 "nbformat_minor": 5
}
