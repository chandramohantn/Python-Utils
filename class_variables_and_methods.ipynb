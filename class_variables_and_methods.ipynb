{
 "cells": [
  {
   "cell_type": "code",
   "execution_count": 1,
   "id": "9b7bab1b",
   "metadata": {},
   "outputs": [],
   "source": [
    "class Employee:\n",
    "    \n",
    "    increment = 1.05\n",
    "    \n",
    "    def __init__(self, fname, lname, age, salary):\n",
    "        self.fname = fname\n",
    "        self.lname = lname\n",
    "        self.age = age\n",
    "        self.salary = salary\n",
    "        \n",
    "    def get_full_name(self):\n",
    "        return f\"Full name is: {self.fname} {self.lname}\"\n",
    "    \n",
    "    def raise_salary(self):\n",
    "        self.salary = self.increment * self.salary # Will use objects increment value (better if you want to raise salary \n",
    "                                            # by different amounts for different employees)\n",
    "        # self.salary = Employee.increment * self.salary # Will use class's increment value\n",
    "        return self.salary"
   ]
  },
  {
   "cell_type": "code",
   "execution_count": 2,
   "id": "767bf229",
   "metadata": {},
   "outputs": [],
   "source": [
    "emp1 = Employee(\"handra\", \"moha\", 7, 10)\n",
    "emp2 = Employee(\"andr\", \"oh\", 8, 11)"
   ]
  },
  {
   "cell_type": "code",
   "execution_count": 3,
   "id": "f264b6e1",
   "metadata": {},
   "outputs": [
    {
     "name": "stdout",
     "output_type": "stream",
     "text": [
      "Full name is: handra moha\n",
      "Full name is: andr oh\n"
     ]
    }
   ],
   "source": [
    "print(emp1.get_full_name())\n",
    "print(emp2.get_full_name())"
   ]
  },
  {
   "cell_type": "code",
   "execution_count": 4,
   "id": "6a8db1e5",
   "metadata": {},
   "outputs": [
    {
     "name": "stdout",
     "output_type": "stream",
     "text": [
      "10.5\n",
      "11.55\n"
     ]
    }
   ],
   "source": [
    "print(emp1.raise_salary())\n",
    "print(emp2.raise_salary())"
   ]
  },
  {
   "cell_type": "code",
   "execution_count": 5,
   "id": "c8606c74",
   "metadata": {},
   "outputs": [
    {
     "name": "stdout",
     "output_type": "stream",
     "text": [
      "1.04\n",
      "1.03\n",
      "10.92\n",
      "11.896500000000001\n"
     ]
    }
   ],
   "source": [
    "emp1.increment = 1.04\n",
    "print(emp1.increment)\n",
    "emp2.increment = 1.03\n",
    "print(emp2.increment)\n",
    "print(emp1.raise_salary())\n",
    "print(emp2.raise_salary())"
   ]
  },
  {
   "cell_type": "code",
   "execution_count": null,
   "id": "ea0f9d5a",
   "metadata": {},
   "outputs": [],
   "source": []
  },
  {
   "cell_type": "code",
   "execution_count": 6,
   "id": "d142a086",
   "metadata": {},
   "outputs": [],
   "source": [
    "class Employee:\n",
    "    \n",
    "    increment = 1.05\n",
    "    \n",
    "    def __init__(self, fname, lname, age, salary):\n",
    "        self.fname = fname\n",
    "        self.lname = lname\n",
    "        self.age = age\n",
    "        self.salary = salary\n",
    "        \n",
    "    def get_full_name(self):\n",
    "        return f\"Full name is: {self.fname} {self.lname}\"\n",
    "    \n",
    "    def raise_salary(self):\n",
    "        self.salary = self.increment * self.salary\n",
    "        return self.salary\n",
    "    \n",
    "    @classmethod\n",
    "    def set_increment(cls, amount):\n",
    "        cls.increment = amount"
   ]
  },
  {
   "cell_type": "code",
   "execution_count": 7,
   "id": "44f662f9",
   "metadata": {},
   "outputs": [],
   "source": [
    "emp1 = Employee(\"handra\", \"moha\", 7, 100)\n",
    "emp2 = Employee(\"andr\", \"oh\", 8, 100)"
   ]
  },
  {
   "cell_type": "code",
   "execution_count": 8,
   "id": "249ae867",
   "metadata": {},
   "outputs": [
    {
     "name": "stdout",
     "output_type": "stream",
     "text": [
      "1.1\n",
      "1.1\n",
      "1.1\n"
     ]
    }
   ],
   "source": [
    "Employee.set_increment(1.1)\n",
    "print(Employee.increment)\n",
    "print(emp1.increment)\n",
    "print(emp2.increment)"
   ]
  },
  {
   "cell_type": "code",
   "execution_count": null,
   "id": "be642716",
   "metadata": {},
   "outputs": [],
   "source": []
  },
  {
   "cell_type": "code",
   "execution_count": 16,
   "id": "0db164b1",
   "metadata": {},
   "outputs": [],
   "source": [
    "# Using class methods as alternative constructors\n",
    "\n",
    "class Employee:\n",
    "\n",
    "    def __init__(self, fname, lname, age, salary):\n",
    "        self.fname = fname\n",
    "        self.lname = lname\n",
    "        self.age = age\n",
    "        self.salary = salary\n",
    "        \n",
    "    def get_full_name(self):\n",
    "        return f\"Full name is: {self.fname} {self.lname}\"\n",
    "        \n",
    "    @classmethod\n",
    "    def from_string(cls, name, age, salary):\n",
    "        fname, lname = name.split('-')\n",
    "        return cls(fname, lname, age, salary)"
   ]
  },
  {
   "cell_type": "code",
   "execution_count": 18,
   "id": "ab825007",
   "metadata": {},
   "outputs": [
    {
     "name": "stdout",
     "output_type": "stream",
     "text": [
      "Full name is: Handra Moha\n"
     ]
    }
   ],
   "source": [
    "emp = Employee.from_string(\"Handra-Moha\", 7, 100)\n",
    "print(emp.get_full_name())"
   ]
  },
  {
   "cell_type": "code",
   "execution_count": null,
   "id": "6123ac73",
   "metadata": {},
   "outputs": [],
   "source": []
  },
  {
   "cell_type": "code",
   "execution_count": 21,
   "id": "545b2b60",
   "metadata": {},
   "outputs": [
    {
     "name": "stdout",
     "output_type": "stream",
     "text": [
      "6\n",
      "8\n"
     ]
    }
   ],
   "source": [
    "class Employee:\n",
    "\n",
    "    def __init__(self, fname, lname, age, salary):\n",
    "        self.fname = fname\n",
    "        self.lname = lname\n",
    "        self.age = age\n",
    "        self.salary = salary\n",
    "        \n",
    "    def get_full_name(self):\n",
    "        return f\"Full name is: {self.fname} {self.lname}\"\n",
    "        \n",
    "    @classmethod\n",
    "    def from_string(cls, name, age, salary):\n",
    "        fname, lname = name.split('-')\n",
    "        return cls(fname, lname, age, salary)\n",
    "    \n",
    "    @staticmethod\n",
    "    def get_office_hours(location):\n",
    "        if location == 'A':\n",
    "            return 6\n",
    "        else:\n",
    "            return 8\n",
    "        \n",
    "print(Employee.get_office_hours('A'))\n",
    "print(Employee.get_office_hours('B'))"
   ]
  },
  {
   "cell_type": "code",
   "execution_count": 23,
   "id": "86a8813c",
   "metadata": {},
   "outputs": [
    {
     "name": "stdout",
     "output_type": "stream",
     "text": [
      "6\n",
      "8\n"
     ]
    }
   ],
   "source": [
    "def get_office_hours(location):\n",
    "    if location == 'A':\n",
    "        return 6\n",
    "    else:\n",
    "        return 8\n",
    "\n",
    "class Employee:\n",
    "\n",
    "    def __init__(self, fname, lname, age, salary):\n",
    "        self.fname = fname\n",
    "        self.lname = lname\n",
    "        self.age = age\n",
    "        self.salary = salary\n",
    "        \n",
    "    def get_full_name(self):\n",
    "        return f\"Full name is: {self.fname} {self.lname}\"\n",
    "        \n",
    "    @classmethod\n",
    "    def from_string(cls, name, age, salary):\n",
    "        fname, lname = name.split('-')\n",
    "        return cls(fname, lname, age, salary)\n",
    "        \n",
    "print(get_office_hours('A'))\n",
    "print(get_office_hours('B'))"
   ]
  },
  {
   "cell_type": "markdown",
   "id": "6355f516",
   "metadata": {},
   "source": [
    "#### Both of the above methods works in the same manner. The only difference being that in one case we have defined a static method and in the other case we have taken the static method outside the class. Static methods are used only because we feel that the method has some logical connection with the Employee class. "
   ]
  },
  {
   "cell_type": "code",
   "execution_count": null,
   "id": "b88effe9",
   "metadata": {},
   "outputs": [],
   "source": []
  }
 ],
 "metadata": {
  "kernelspec": {
   "display_name": "Python 3 (ipykernel)",
   "language": "python",
   "name": "python3"
  },
  "language_info": {
   "codemirror_mode": {
    "name": "ipython",
    "version": 3
   },
   "file_extension": ".py",
   "mimetype": "text/x-python",
   "name": "python",
   "nbconvert_exporter": "python",
   "pygments_lexer": "ipython3",
   "version": "3.8.15"
  }
 },
 "nbformat": 4,
 "nbformat_minor": 5
}
