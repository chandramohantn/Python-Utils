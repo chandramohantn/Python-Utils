{
 "cells": [
  {
   "cell_type": "code",
   "execution_count": 1,
   "id": "4febdbc1",
   "metadata": {},
   "outputs": [
    {
     "name": "stdout",
     "output_type": "stream",
     "text": [
      "Inside wrapper method\n",
      "Inside black box method\n"
     ]
    }
   ],
   "source": [
    "def decorator_func(func):\n",
    "    def wrapper():\n",
    "        print(\"Inside wrapper method\")\n",
    "        func()\n",
    "    return wrapper\n",
    "\n",
    "def black_box_func():\n",
    "    print(\"Inside black box method\")\n",
    "    \n",
    "func = decorator_func(black_box_func)\n",
    "func()"
   ]
  },
  {
   "cell_type": "code",
   "execution_count": null,
   "id": "9f69efaf",
   "metadata": {},
   "outputs": [],
   "source": []
  },
  {
   "cell_type": "code",
   "execution_count": 5,
   "id": "3fce45bd",
   "metadata": {},
   "outputs": [
    {
     "name": "stdout",
     "output_type": "stream",
     "text": [
      "Inside wrapper method\n",
      "Inside increment method\n",
      "101\n",
      "Inside wrapper method\n",
      "Inside decrement method\n",
      "99\n"
     ]
    }
   ],
   "source": [
    "def decorator_func(func):\n",
    "    def wrapper(*args, **kwargs):\n",
    "        print(\"Inside wrapper method\")\n",
    "        val = args[0] * 10\n",
    "        return func(val)\n",
    "    return wrapper\n",
    "\n",
    "def inc(val):\n",
    "    print(\"Inside increment method\")\n",
    "    return val + 1\n",
    "    \n",
    "def dec(val):\n",
    "    print(\"Inside decrement method\")\n",
    "    return val - 1\n",
    "    \n",
    "func = decorator_func(inc)\n",
    "print(func(10))\n",
    "\n",
    "func = decorator_func(dec)\n",
    "print(func(10))"
   ]
  },
  {
   "cell_type": "code",
   "execution_count": null,
   "id": "7993ff40",
   "metadata": {},
   "outputs": [],
   "source": []
  },
  {
   "cell_type": "code",
   "execution_count": 7,
   "id": "e0dd654c",
   "metadata": {},
   "outputs": [
    {
     "name": "stdout",
     "output_type": "stream",
     "text": [
      "Inside wrapper method\n",
      "Inside increment method\n",
      "101\n",
      "Inside wrapper method\n",
      "Inside decrement method\n",
      "99\n"
     ]
    }
   ],
   "source": [
    "def decorator_func(func):\n",
    "    def wrapper(*args, **kwargs):\n",
    "        print(\"Inside wrapper method\")\n",
    "        val = args[0] * 10\n",
    "        return func(val)\n",
    "    return wrapper\n",
    "\n",
    "@decorator_func\n",
    "def inc(val):\n",
    "    print(\"Inside increment method\")\n",
    "    return val + 1\n",
    "    \n",
    "@decorator_func\n",
    "def dec(val):\n",
    "    print(\"Inside decrement method\")\n",
    "    return val - 1\n",
    "    \n",
    "print(inc(10))\n",
    "print(dec(10))"
   ]
  },
  {
   "cell_type": "code",
   "execution_count": null,
   "id": "beab4553",
   "metadata": {},
   "outputs": [],
   "source": []
  },
  {
   "cell_type": "code",
   "execution_count": 10,
   "id": "68dda0f2",
   "metadata": {},
   "outputs": [
    {
     "name": "stdout",
     "output_type": "stream",
     "text": [
      "Inside wrapper method\n",
      "Inside division method\n",
      "2.0\n",
      "Inside wrapper method\n",
      "Inside division method\n",
      "5.0\n"
     ]
    }
   ],
   "source": [
    "def check_numerator(func):\n",
    "    def wrapper(*args, **kwargs):\n",
    "        print(\"Inside wrapper method\")\n",
    "        val1, val2 = args\n",
    "        if val1 < val2:\n",
    "            val1, val2 = val2, val1\n",
    "        return func(val1, val2)\n",
    "    return wrapper\n",
    "\n",
    "@check_numerator\n",
    "def divison(a, b):\n",
    "    print(\"Inside division method\")\n",
    "    return a / b\n",
    "    \n",
    "## Doing division in a way such that numerator >= denominator\n",
    "print(divison(10, 20))\n",
    "print(divison(10, 2))"
   ]
  },
  {
   "cell_type": "code",
   "execution_count": null,
   "id": "4df56d0b",
   "metadata": {},
   "outputs": [],
   "source": []
  },
  {
   "cell_type": "code",
   "execution_count": 12,
   "id": "7edcdc25",
   "metadata": {},
   "outputs": [
    {
     "name": "stdout",
     "output_type": "stream",
     "text": [
      "Inside wrapper method\n",
      "Inside wrapper method\n",
      "Inside division method\n",
      "2.0\n",
      "Inside wrapper method\n",
      "Inside wrapper method\n",
      "Inside division method\n",
      "5.0\n",
      "Inside wrapper method\n",
      "Inside wrapper method\n",
      "Inside division method\n",
      "2.0\n",
      "Inside wrapper method\n",
      "Inside wrapper method\n",
      "Inside division method\n",
      "10.0\n"
     ]
    }
   ],
   "source": [
    "def check_numerator(func):\n",
    "    def wrapper(*args, **kwargs):\n",
    "        print(\"Inside wrapper method\")\n",
    "        val1, val2 = args\n",
    "        if val1 < val2:\n",
    "            val1, val2 = val2, val1\n",
    "        return func(val1, val2)\n",
    "    return wrapper\n",
    "\n",
    "def check_zero(func):\n",
    "    def wrapper(*args, **kwargs):\n",
    "        print(\"Inside wrapper method\")\n",
    "        val1, val2 = args\n",
    "        if val2 == 0:\n",
    "            val2 = 1\n",
    "        return func(val1, val2)\n",
    "    return wrapper\n",
    "\n",
    "@check_numerator\n",
    "@check_zero\n",
    "def divison(a, b):\n",
    "    print(\"Inside division method\")\n",
    "    return a / b\n",
    "    \n",
    "## Doing division in a way such that numerator >= denominator and if denominator is zero it is made one\n",
    "print(divison(10, 20))\n",
    "print(divison(10, 2))\n",
    "print(divison(0, 2))\n",
    "print(divison(10, 0))"
   ]
  },
  {
   "cell_type": "code",
   "execution_count": null,
   "id": "61fd15cc",
   "metadata": {},
   "outputs": [],
   "source": []
  },
  {
   "cell_type": "markdown",
   "id": "d7c284db",
   "metadata": {},
   "source": [
    "## Practical usecase - LOGGING"
   ]
  },
  {
   "cell_type": "code",
   "execution_count": 16,
   "id": "ed1cd72f",
   "metadata": {},
   "outputs": [
    {
     "name": "stdout",
     "output_type": "stream",
     "text": [
      "Inside increment method\n",
      "5\n",
      "Inside decrement method\n",
      "-1\n"
     ]
    }
   ],
   "source": [
    "def logger(func):\n",
    "    def wrapper(*args, **kwargs):\n",
    "        val1, val2 = args\n",
    "        value = func(val1, val2)\n",
    "        fname = func.__name__\n",
    "        with open('logger.txt', 'a+') as fp:\n",
    "            fp.write(f\"Method {fname} returned value: {value}\\n\")\n",
    "        return value\n",
    "    return wrapper\n",
    "\n",
    "@logger\n",
    "def add(val1, val2):\n",
    "    print(\"Inside increment method\")\n",
    "    return val1 + val2\n",
    "    \n",
    "@logger\n",
    "def subtract(val1, val2):\n",
    "    print(\"Inside decrement method\")\n",
    "    return val1 - val2\n",
    "\n",
    "print(add(2, 3))\n",
    "print(subtract(2, 3))"
   ]
  },
  {
   "cell_type": "code",
   "execution_count": null,
   "id": "93ac80df",
   "metadata": {},
   "outputs": [],
   "source": []
  },
  {
   "cell_type": "markdown",
   "id": "238230c8",
   "metadata": {},
   "source": [
    "## Practical usecase - TIMING"
   ]
  },
  {
   "cell_type": "code",
   "execution_count": 20,
   "id": "0ba15df1",
   "metadata": {},
   "outputs": [
    {
     "name": "stdout",
     "output_type": "stream",
     "text": [
      "Inside increment method\n",
      "Execution time for method add is 2.011291265487671\n",
      "5\n",
      "Inside decrement method\n",
      "Execution time for method subtract is 2.009003162384033\n",
      "-1\n"
     ]
    }
   ],
   "source": [
    "import time\n",
    "import random\n",
    "\n",
    "def timer(func):\n",
    "    def wrapper(*args, **kwargs):\n",
    "        val1, val2 = args\n",
    "        fname = func.__name__\n",
    "        start_time = time.time()\n",
    "        value = func(val1, val2)\n",
    "        end_time = time.time()\n",
    "        print(f\"Execution time for method {fname} is {end_time - start_time}\")\n",
    "        return value\n",
    "    return wrapper\n",
    "\n",
    "@timer\n",
    "def add(val1, val2):\n",
    "    print(\"Inside increment method\")\n",
    "    time.sleep(random.randint(1, 5))\n",
    "    return val1 + val2\n",
    "    \n",
    "@timer\n",
    "def subtract(val1, val2):\n",
    "    print(\"Inside decrement method\")\n",
    "    time.sleep(random.randint(1, 5))\n",
    "    return val1 - val2\n",
    "\n",
    "print(add(2, 3))\n",
    "print(subtract(2, 3))"
   ]
  },
  {
   "cell_type": "code",
   "execution_count": null,
   "id": "5e7df559",
   "metadata": {},
   "outputs": [],
   "source": []
  }
 ],
 "metadata": {
  "kernelspec": {
   "display_name": "Python 3 (ipykernel)",
   "language": "python",
   "name": "python3"
  },
  "language_info": {
   "codemirror_mode": {
    "name": "ipython",
    "version": 3
   },
   "file_extension": ".py",
   "mimetype": "text/x-python",
   "name": "python",
   "nbconvert_exporter": "python",
   "pygments_lexer": "ipython3",
   "version": "3.8.15"
  }
 },
 "nbformat": 4,
 "nbformat_minor": 5
}
