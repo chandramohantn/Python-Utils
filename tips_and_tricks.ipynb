{
 "cells": [
  {
   "cell_type": "markdown",
   "id": "09099e25",
   "metadata": {},
   "source": [
    "## 1. doc strings"
   ]
  },
  {
   "cell_type": "code",
   "execution_count": 2,
   "id": "88e63727",
   "metadata": {},
   "outputs": [],
   "source": [
    "def add_2_nums(num1: int, num2: int) -> int:\n",
    "    '''\n",
    "    add_2_nums is used to add two numbers\n",
    "    params:\n",
    "    num1: a positive integer\n",
    "    num2: a positive integer\n",
    "    returns:\n",
    "    a positive integer\n",
    "    '''\n",
    "    return num1 + num2"
   ]
  },
  {
   "cell_type": "code",
   "execution_count": 6,
   "id": "6cc1e991",
   "metadata": {},
   "outputs": [
    {
     "name": "stdout",
     "output_type": "stream",
     "text": [
      "\n",
      "    add_2_nums is used to add two numbers\n",
      "    params:\n",
      "    num1: a positive integer\n",
      "    num2: a positive integer\n",
      "    returns:\n",
      "    a positive integer\n",
      "    \n"
     ]
    }
   ],
   "source": [
    "print(add_2_nums.__doc__)"
   ]
  },
  {
   "cell_type": "code",
   "execution_count": 7,
   "id": "af6ce1f4",
   "metadata": {},
   "outputs": [
    {
     "name": "stdout",
     "output_type": "stream",
     "text": [
      "Help on function add_2_nums in module __main__:\n",
      "\n",
      "add_2_nums(num1: int, num2: int) -> int\n",
      "    add_2_nums is used to add two numbers\n",
      "    params:\n",
      "    num1: a positive integer\n",
      "    num2: a positive integer\n",
      "    returns:\n",
      "    a positive integer\n",
      "\n",
      "None\n"
     ]
    }
   ],
   "source": [
    "print(help(add_2_nums))"
   ]
  },
  {
   "cell_type": "code",
   "execution_count": null,
   "id": "90e8bd07",
   "metadata": {},
   "outputs": [],
   "source": []
  },
  {
   "cell_type": "markdown",
   "id": "47c9dc30",
   "metadata": {},
   "source": [
    "## 2. zip, zipped, enumerate"
   ]
  },
  {
   "cell_type": "code",
   "execution_count": 8,
   "id": "656424b3",
   "metadata": {},
   "outputs": [],
   "source": [
    "names = ['A', 'B', 'C', 'D']\n",
    "ages = [10, 20, 30, 40]"
   ]
  },
  {
   "cell_type": "code",
   "execution_count": 11,
   "id": "a9a36fbf",
   "metadata": {},
   "outputs": [
    {
     "name": "stdout",
     "output_type": "stream",
     "text": [
      "<zip object at 0x000002C61ED04B00>\n"
     ]
    }
   ],
   "source": [
    "print(zip(names, ages))"
   ]
  },
  {
   "cell_type": "code",
   "execution_count": 12,
   "id": "72cbbaf0",
   "metadata": {},
   "outputs": [
    {
     "name": "stdout",
     "output_type": "stream",
     "text": [
      "[('A', 10), ('B', 20), ('C', 30), ('D', 40)]\n"
     ]
    }
   ],
   "source": [
    "print(list(zip(names, ages)))"
   ]
  },
  {
   "cell_type": "code",
   "execution_count": 17,
   "id": "d6f3d19e",
   "metadata": {},
   "outputs": [
    {
     "name": "stdout",
     "output_type": "stream",
     "text": [
      "{'A': 10, 'B': 20, 'C': 30, 'D': 40}\n"
     ]
    }
   ],
   "source": [
    "print(dict(zip(names, ages)))"
   ]
  },
  {
   "cell_type": "code",
   "execution_count": 10,
   "id": "d9f9e268",
   "metadata": {},
   "outputs": [
    {
     "name": "stdout",
     "output_type": "stream",
     "text": [
      "Person's name is A and is of age 10\n",
      "Person's name is B and is of age 20\n",
      "Person's name is C and is of age 30\n",
      "Person's name is D and is of age 40\n"
     ]
    }
   ],
   "source": [
    "for name, age in zip(names, ages):\n",
    "    print(f\"Person's name is {name} and is of age {age}\")"
   ]
  },
  {
   "cell_type": "code",
   "execution_count": null,
   "id": "05330b81",
   "metadata": {},
   "outputs": [],
   "source": []
  },
  {
   "cell_type": "code",
   "execution_count": 13,
   "id": "119783e1",
   "metadata": {},
   "outputs": [],
   "source": [
    "zipped = [('A', 10), ('B', 20), ('C', 30), ('D', 40)]\n",
    "new_names, new_ages = zip(*zipped)"
   ]
  },
  {
   "cell_type": "code",
   "execution_count": 16,
   "id": "c99a11e7",
   "metadata": {},
   "outputs": [
    {
     "name": "stdout",
     "output_type": "stream",
     "text": [
      "['A', 'B', 'C', 'D']\n",
      "[10, 20, 30, 40]\n"
     ]
    }
   ],
   "source": [
    "print(list(new_names))\n",
    "print(list(new_ages))"
   ]
  },
  {
   "cell_type": "code",
   "execution_count": null,
   "id": "6184675a",
   "metadata": {},
   "outputs": [],
   "source": []
  },
  {
   "cell_type": "code",
   "execution_count": 18,
   "id": "3bc9408d",
   "metadata": {},
   "outputs": [
    {
     "name": "stdout",
     "output_type": "stream",
     "text": [
      "Person 1's name is A\n",
      "Person 2's name is B\n",
      "Person 3's name is C\n",
      "Person 4's name is D\n"
     ]
    }
   ],
   "source": [
    "for idx, name in enumerate(names):\n",
    "    print(f\"Person {idx+1}'s name is {name}\")"
   ]
  },
  {
   "cell_type": "code",
   "execution_count": null,
   "id": "883abe37",
   "metadata": {},
   "outputs": [],
   "source": []
  },
  {
   "cell_type": "markdown",
   "id": "8b69d820",
   "metadata": {},
   "source": [
    "## 3. map"
   ]
  },
  {
   "cell_type": "code",
   "execution_count": 19,
   "id": "eb715047",
   "metadata": {},
   "outputs": [],
   "source": [
    "def square_num(num):\n",
    "    return num**2"
   ]
  },
  {
   "cell_type": "code",
   "execution_count": 22,
   "id": "4cb80c58",
   "metadata": {},
   "outputs": [],
   "source": [
    "numbers = [1, 2, 3, 4, 5, 6, 7]\n",
    "squares = map(square_num, numbers)"
   ]
  },
  {
   "cell_type": "code",
   "execution_count": 23,
   "id": "722db6a1",
   "metadata": {},
   "outputs": [
    {
     "name": "stdout",
     "output_type": "stream",
     "text": [
      "<map object at 0x000002C61F0EA130>\n",
      "[1, 4, 9, 16, 25, 36, 49]\n"
     ]
    }
   ],
   "source": [
    "print(squares)\n",
    "print(list(squares))"
   ]
  },
  {
   "cell_type": "code",
   "execution_count": null,
   "id": "a19d8dad",
   "metadata": {},
   "outputs": [],
   "source": []
  },
  {
   "cell_type": "markdown",
   "id": "b0907147",
   "metadata": {},
   "source": [
    "## 4. lambda function"
   ]
  },
  {
   "cell_type": "code",
   "execution_count": 24,
   "id": "0042504f",
   "metadata": {},
   "outputs": [],
   "source": [
    "square_num = lambda x: x**2\n",
    "\n",
    "numbers = [1, 2, 3, 4, 5, 6, 7]\n",
    "squares = map(square_num, numbers)"
   ]
  },
  {
   "cell_type": "code",
   "execution_count": 25,
   "id": "93dcf903",
   "metadata": {},
   "outputs": [
    {
     "name": "stdout",
     "output_type": "stream",
     "text": [
      "<map object at 0x000002C61F6141F0>\n",
      "[1, 4, 9, 16, 25, 36, 49]\n"
     ]
    }
   ],
   "source": [
    "print(squares)\n",
    "print(list(squares))"
   ]
  },
  {
   "cell_type": "code",
   "execution_count": 26,
   "id": "410cb3da",
   "metadata": {},
   "outputs": [
    {
     "name": "stdout",
     "output_type": "stream",
     "text": [
      "100\n",
      "1000000\n"
     ]
    }
   ],
   "source": [
    "print(square_num(10))\n",
    "print(square_num(1000))"
   ]
  },
  {
   "cell_type": "code",
   "execution_count": 27,
   "id": "bccefaa3",
   "metadata": {},
   "outputs": [
    {
     "name": "stdout",
     "output_type": "stream",
     "text": [
      "7\n"
     ]
    }
   ],
   "source": [
    "add_nums = lambda x, y: x + y\n",
    "\n",
    "total = add_nums(3, 4)\n",
    "print(total)"
   ]
  },
  {
   "cell_type": "code",
   "execution_count": 28,
   "id": "befb0835",
   "metadata": {},
   "outputs": [
    {
     "name": "stdout",
     "output_type": "stream",
     "text": [
      "25\n"
     ]
    }
   ],
   "source": [
    "add_nums = lambda *args: sum(args)\n",
    "\n",
    "total = add_nums(3, 4, 5, 6, 7)\n",
    "print(total)"
   ]
  },
  {
   "cell_type": "code",
   "execution_count": 29,
   "id": "b2a7af3c",
   "metadata": {},
   "outputs": [
    {
     "name": "stdout",
     "output_type": "stream",
     "text": [
      "32\n"
     ]
    }
   ],
   "source": [
    "def power(exp):\n",
    "    value = lambda base: base ** exp\n",
    "    return value\n",
    "\n",
    "power_func = power(5)\n",
    "print(power_func(2))"
   ]
  },
  {
   "cell_type": "code",
   "execution_count": null,
   "id": "b242bfc1",
   "metadata": {},
   "outputs": [],
   "source": []
  },
  {
   "cell_type": "markdown",
   "id": "f68660b5",
   "metadata": {},
   "source": [
    "## 5. merging dictionaries"
   ]
  },
  {
   "cell_type": "code",
   "execution_count": 33,
   "id": "36788a89",
   "metadata": {},
   "outputs": [
    {
     "name": "stdout",
     "output_type": "stream",
     "text": [
      "{'a': 1, 'b': 5, 'c': 8, 'd': 2, 'e': 7}\n",
      "{'d': 2, 'b': 5, 'e': 7}\n"
     ]
    }
   ],
   "source": [
    "dict1 = {'a': 1, 'b': 4, 'c': 8}\n",
    "dict2 = {'d': 2, 'b': 5, 'e': 7}\n",
    "\n",
    "dict1.update(dict2)\n",
    "print(dict1)\n",
    "print(dict2)"
   ]
  },
  {
   "cell_type": "code",
   "execution_count": 34,
   "id": "72f0cbd9",
   "metadata": {},
   "outputs": [
    {
     "name": "stdout",
     "output_type": "stream",
     "text": [
      "{'a': 1, 'b': 4, 'c': 8}\n",
      "{'d': 2, 'b': 4, 'e': 7, 'a': 1, 'c': 8}\n"
     ]
    }
   ],
   "source": [
    "dict1 = {'a': 1, 'b': 4, 'c': 8}\n",
    "dict2 = {'d': 2, 'b': 5, 'e': 7}\n",
    "\n",
    "dict2.update(dict1)\n",
    "print(dict1)\n",
    "print(dict2)"
   ]
  },
  {
   "cell_type": "code",
   "execution_count": 36,
   "id": "1ac7be40",
   "metadata": {},
   "outputs": [
    {
     "name": "stdout",
     "output_type": "stream",
     "text": [
      "{'a': 1, 'b': 4, 'c': 8}\n",
      "{'d': 2, 'b': 5, 'e': 7}\n",
      "{'a': 1, 'b': 5, 'c': 8, 'd': 2, 'e': 7}\n"
     ]
    }
   ],
   "source": [
    "dict1 = {'a': 1, 'b': 4, 'c': 8}\n",
    "dict2 = {'d': 2, 'b': 5, 'e': 7}\n",
    "\n",
    "dict3 = {**dict1, **dict2}\n",
    "print(dict1)\n",
    "print(dict2)\n",
    "print(dict3)"
   ]
  },
  {
   "cell_type": "code",
   "execution_count": 37,
   "id": "249e2bc8",
   "metadata": {},
   "outputs": [
    {
     "name": "stdout",
     "output_type": "stream",
     "text": [
      "{'a': 1, 'b': 4, 'c': 8}\n",
      "{'d': 2, 'b': 5, 'e': 7}\n",
      "{'d': 2, 'b': 4, 'e': 7, 'a': 1, 'c': 8}\n"
     ]
    }
   ],
   "source": [
    "dict1 = {'a': 1, 'b': 4, 'c': 8}\n",
    "dict2 = {'d': 2, 'b': 5, 'e': 7}\n",
    "\n",
    "dict3 = {**dict2, **dict1}\n",
    "print(dict1)\n",
    "print(dict2)\n",
    "print(dict3)"
   ]
  },
  {
   "cell_type": "code",
   "execution_count": null,
   "id": "798838fd",
   "metadata": {},
   "outputs": [],
   "source": []
  },
  {
   "cell_type": "markdown",
   "id": "d9a97f6c",
   "metadata": {},
   "source": [
    "## 6. slice"
   ]
  },
  {
   "cell_type": "code",
   "execution_count": 41,
   "id": "3eb10cdc",
   "metadata": {},
   "outputs": [],
   "source": [
    "numbers = [1, 2, 4, 8, 16, 32, 64, 128, 256, 512, 1024]"
   ]
  },
  {
   "cell_type": "code",
   "execution_count": 42,
   "id": "07f46bff",
   "metadata": {},
   "outputs": [],
   "source": [
    "# slice(start, end, step)\n",
    "\n",
    "LASTFOUR = slice(-4, None)\n",
    "FIRSTFOUR = slice(0, 4)\n",
    "EVERYOTHER = slice(0, None, 2)\n",
    "INBETWEEN = slice(2, 7)\n",
    "INBETWEENALTERNATE = slice(2, 7, 2)"
   ]
  },
  {
   "cell_type": "code",
   "execution_count": 43,
   "id": "d477cde2",
   "metadata": {},
   "outputs": [
    {
     "name": "stdout",
     "output_type": "stream",
     "text": [
      "[128, 256, 512, 1024]\n",
      "[1, 2, 4, 8]\n",
      "[1, 4, 16, 64, 256, 1024]\n",
      "[4, 8, 16, 32, 64]\n",
      "[4, 16, 64]\n"
     ]
    }
   ],
   "source": [
    "print(numbers[LASTFOUR])\n",
    "print(numbers[FIRSTFOUR])\n",
    "print(numbers[EVERYOTHER])\n",
    "print(numbers[INBETWEEN])\n",
    "print(numbers[INBETWEENALTERNATE])"
   ]
  },
  {
   "cell_type": "code",
   "execution_count": null,
   "id": "feb0008a",
   "metadata": {},
   "outputs": [],
   "source": []
  },
  {
   "cell_type": "markdown",
   "id": "900e2157",
   "metadata": {},
   "source": [
    "## 7. counters"
   ]
  },
  {
   "cell_type": "code",
   "execution_count": 44,
   "id": "7f303cab",
   "metadata": {},
   "outputs": [],
   "source": [
    "from collections import Counter"
   ]
  },
  {
   "cell_type": "code",
   "execution_count": 45,
   "id": "4785efa0",
   "metadata": {},
   "outputs": [],
   "source": [
    "numbers = [1, 2, 3, 4, 1, 2, 3, 1, 1, 1, 1, 2, 3, 4, 1, 2, 1, 1, 1, 2, 2, 2, 3, 3, 1, 2, 3, 4, 5]"
   ]
  },
  {
   "cell_type": "code",
   "execution_count": 46,
   "id": "3c7f35a8",
   "metadata": {},
   "outputs": [
    {
     "name": "stdout",
     "output_type": "stream",
     "text": [
      "Counter({1: 11, 2: 8, 3: 6, 4: 3, 5: 1})\n"
     ]
    }
   ],
   "source": [
    "counter = Counter(numbers)\n",
    "print(counter)"
   ]
  },
  {
   "cell_type": "code",
   "execution_count": 47,
   "id": "97b967e6",
   "metadata": {},
   "outputs": [
    {
     "data": {
      "text/plain": [
       "[(1, 11), (2, 8), (3, 6)]"
      ]
     },
     "execution_count": 47,
     "metadata": {},
     "output_type": "execute_result"
    }
   ],
   "source": [
    "counter.most_common(3)"
   ]
  },
  {
   "cell_type": "code",
   "execution_count": 48,
   "id": "db4987e6",
   "metadata": {},
   "outputs": [
    {
     "data": {
      "text/plain": [
       "1"
      ]
     },
     "execution_count": 48,
     "metadata": {},
     "output_type": "execute_result"
    }
   ],
   "source": [
    "counter.most_common(3)[0][0]"
   ]
  },
  {
   "cell_type": "code",
   "execution_count": 49,
   "id": "b3ff7afe",
   "metadata": {},
   "outputs": [
    {
     "name": "stdout",
     "output_type": "stream",
     "text": [
      "1\n"
     ]
    }
   ],
   "source": [
    "print(max(numbers, key=numbers.count))"
   ]
  },
  {
   "cell_type": "code",
   "execution_count": 50,
   "id": "6116453a",
   "metadata": {},
   "outputs": [
    {
     "name": "stdout",
     "output_type": "stream",
     "text": [
      "1\n"
     ]
    }
   ],
   "source": [
    "print(max(set(numbers), key=numbers.count))"
   ]
  },
  {
   "cell_type": "code",
   "execution_count": 52,
   "id": "cbc3ba84",
   "metadata": {},
   "outputs": [
    {
     "name": "stdout",
     "output_type": "stream",
     "text": [
      "1 11\n"
     ]
    }
   ],
   "source": [
    "most_frequent = max(set(numbers), key=numbers.count)\n",
    "count = numbers.count(most_frequent)\n",
    "print(most_frequent, count)"
   ]
  },
  {
   "cell_type": "code",
   "execution_count": null,
   "id": "51f743fe",
   "metadata": {},
   "outputs": [],
   "source": []
  },
  {
   "cell_type": "code",
   "execution_count": null,
   "id": "d3385f43",
   "metadata": {},
   "outputs": [],
   "source": []
  }
 ],
 "metadata": {
  "kernelspec": {
   "display_name": "Python 3 (ipykernel)",
   "language": "python",
   "name": "python3"
  },
  "language_info": {
   "codemirror_mode": {
    "name": "ipython",
    "version": 3
   },
   "file_extension": ".py",
   "mimetype": "text/x-python",
   "name": "python",
   "nbconvert_exporter": "python",
   "pygments_lexer": "ipython3",
   "version": "3.8.15"
  }
 },
 "nbformat": 4,
 "nbformat_minor": 5
}
