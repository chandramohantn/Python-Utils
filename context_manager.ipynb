{
 "cells": [
  {
   "cell_type": "code",
   "execution_count": 6,
   "id": "b8fd3c78",
   "metadata": {},
   "outputs": [
    {
     "name": "stdout",
     "output_type": "stream",
     "text": [
      "file opened\n",
      "coverage==6.5.0\n",
      "\n",
      "file read\n",
      "file closed\n"
     ]
    }
   ],
   "source": [
    "file = open(\"requirements.txt\", \"r\")\n",
    "print('file opened')\n",
    "for line in file.readlines():\n",
    "    print(line)\n",
    "    break\n",
    "print('file read')\n",
    "file.close()\n",
    "print('file closed')"
   ]
  },
  {
   "cell_type": "code",
   "execution_count": 8,
   "id": "fa8b8f6a",
   "metadata": {},
   "outputs": [
    {
     "name": "stdout",
     "output_type": "stream",
     "text": [
      "file opened\n",
      "coverage==6.5.0\n",
      "\n",
      "file read\n",
      "introducing errors ...\n"
     ]
    },
    {
     "ename": "NameError",
     "evalue": "name 'value' is not defined",
     "output_type": "error",
     "traceback": [
      "\u001b[1;31m---------------------------------------------------------------------------\u001b[0m",
      "\u001b[1;31mNameError\u001b[0m                                 Traceback (most recent call last)",
      "Cell \u001b[1;32mIn[8], line 8\u001b[0m\n\u001b[0;32m      6\u001b[0m \u001b[38;5;28mprint\u001b[39m(\u001b[38;5;124m'\u001b[39m\u001b[38;5;124mfile read\u001b[39m\u001b[38;5;124m'\u001b[39m)\n\u001b[0;32m      7\u001b[0m \u001b[38;5;28mprint\u001b[39m(\u001b[38;5;124m'\u001b[39m\u001b[38;5;124mintroducing errors ...\u001b[39m\u001b[38;5;124m'\u001b[39m)\n\u001b[1;32m----> 8\u001b[0m \u001b[38;5;28mprint\u001b[39m(\u001b[43mvalue\u001b[49m)\n\u001b[0;32m      9\u001b[0m file\u001b[38;5;241m.\u001b[39mclose()\n\u001b[0;32m     10\u001b[0m \u001b[38;5;28mprint\u001b[39m(\u001b[38;5;124m'\u001b[39m\u001b[38;5;124mfile closed\u001b[39m\u001b[38;5;124m'\u001b[39m)\n",
      "\u001b[1;31mNameError\u001b[0m: name 'value' is not defined"
     ]
    }
   ],
   "source": [
    "file = open(\"requirements.txt\", \"r\")\n",
    "print('file opened')\n",
    "for line in file.readlines():\n",
    "    print(line)\n",
    "    break\n",
    "print('file read')\n",
    "print('introducing errors ...')\n",
    "print(value)\n",
    "file.close()\n",
    "print('file closed')\n",
    "# here the opened file is not closed"
   ]
  },
  {
   "cell_type": "code",
   "execution_count": 10,
   "id": "efc29480",
   "metadata": {},
   "outputs": [
    {
     "name": "stdout",
     "output_type": "stream",
     "text": [
      "file opened\n",
      "coverage==6.5.0\n",
      "\n",
      "file read\n",
      "introducing errors ...\n",
      "file closed\n"
     ]
    },
    {
     "ename": "NameError",
     "evalue": "name 'value' is not defined",
     "output_type": "error",
     "traceback": [
      "\u001b[1;31m---------------------------------------------------------------------------\u001b[0m",
      "\u001b[1;31mNameError\u001b[0m                                 Traceback (most recent call last)",
      "Cell \u001b[1;32mIn[10], line 9\u001b[0m\n\u001b[0;32m      7\u001b[0m     \u001b[38;5;28mprint\u001b[39m(\u001b[38;5;124m'\u001b[39m\u001b[38;5;124mfile read\u001b[39m\u001b[38;5;124m'\u001b[39m)\n\u001b[0;32m      8\u001b[0m     \u001b[38;5;28mprint\u001b[39m(\u001b[38;5;124m'\u001b[39m\u001b[38;5;124mintroducing errors ...\u001b[39m\u001b[38;5;124m'\u001b[39m)\n\u001b[1;32m----> 9\u001b[0m     \u001b[38;5;28mprint\u001b[39m(\u001b[43mvalue\u001b[49m)\n\u001b[0;32m     10\u001b[0m \u001b[38;5;28;01mfinally\u001b[39;00m:\n\u001b[0;32m     11\u001b[0m     file\u001b[38;5;241m.\u001b[39mclose()\n",
      "\u001b[1;31mNameError\u001b[0m: name 'value' is not defined"
     ]
    }
   ],
   "source": [
    "# Handling the above using try and finally\n",
    "# finally ensures that the file is closed even if the code crashes\n",
    "\n",
    "try:\n",
    "    file = open(\"requirements.txt\", \"r\")\n",
    "    print('file opened')\n",
    "    for line in file.readlines():\n",
    "        print(line)\n",
    "        break\n",
    "    print('file read')\n",
    "    print('introducing errors ...')\n",
    "    print(value)\n",
    "finally:\n",
    "    file.close()\n",
    "    print('file closed')"
   ]
  },
  {
   "cell_type": "code",
   "execution_count": 11,
   "id": "30e876eb",
   "metadata": {},
   "outputs": [
    {
     "name": "stdout",
     "output_type": "stream",
     "text": [
      "file opened\n",
      "reading file\n",
      "coverage==6.5.0\n",
      "\n",
      "file read\n",
      "introducing errors ...\n",
      "file closed\n"
     ]
    },
    {
     "ename": "NameError",
     "evalue": "name 'value' is not defined",
     "output_type": "error",
     "traceback": [
      "\u001b[1;31m---------------------------------------------------------------------------\u001b[0m",
      "\u001b[1;31mNameError\u001b[0m                                 Traceback (most recent call last)",
      "Cell \u001b[1;32mIn[11], line 23\u001b[0m\n\u001b[0;32m     21\u001b[0m \u001b[38;5;28mprint\u001b[39m(\u001b[38;5;124m'\u001b[39m\u001b[38;5;124mfile read\u001b[39m\u001b[38;5;124m'\u001b[39m)\n\u001b[0;32m     22\u001b[0m \u001b[38;5;28mprint\u001b[39m(\u001b[38;5;124m'\u001b[39m\u001b[38;5;124mintroducing errors ...\u001b[39m\u001b[38;5;124m'\u001b[39m)\n\u001b[1;32m---> 23\u001b[0m \u001b[38;5;28mprint\u001b[39m(\u001b[43mvalue\u001b[49m)\n",
      "\u001b[1;31mNameError\u001b[0m: name 'value' is not defined"
     ]
    }
   ],
   "source": [
    "# Handling the above using context manager class\n",
    "# __exit__ ensures that the file is closed even if the code crashes\n",
    "\n",
    "class File:\n",
    "    \n",
    "    def __init__(self, filename, method):\n",
    "        self.file = open(filename, method)\n",
    "        print('file opened')\n",
    "        \n",
    "    def __enter__(self):\n",
    "        print('reading file')\n",
    "        return self.file\n",
    "    \n",
    "    def __exit__(self, type, value, traceback):\n",
    "        self.file.close()\n",
    "        print('file closed')\n",
    "        \n",
    "with File(\"requirements.txt\", \"r\") as f:\n",
    "    for line in f.readlines():\n",
    "        print(line)\n",
    "        break\n",
    "    print('file read')\n",
    "    print('introducing errors ...')\n",
    "    print(value)"
   ]
  },
  {
   "cell_type": "code",
   "execution_count": 15,
   "id": "562d45ad",
   "metadata": {},
   "outputs": [
    {
     "name": "stdout",
     "output_type": "stream",
     "text": [
      "file opened\n",
      "reading file\n",
      "coverage==6.5.0\n",
      "\n",
      "introducing errors ...\n",
      "file closed\n"
     ]
    },
    {
     "ename": "NameError",
     "evalue": "name 'value' is not defined",
     "output_type": "error",
     "traceback": [
      "\u001b[1;31m---------------------------------------------------------------------------\u001b[0m",
      "\u001b[1;31mNameError\u001b[0m                                 Traceback (most recent call last)",
      "Cell \u001b[1;32mIn[15], line 20\u001b[0m\n\u001b[0;32m     18\u001b[0m \u001b[38;5;28mprint\u001b[39m(line)\n\u001b[0;32m     19\u001b[0m \u001b[38;5;28mprint\u001b[39m(\u001b[38;5;124m'\u001b[39m\u001b[38;5;124mintroducing errors ...\u001b[39m\u001b[38;5;124m'\u001b[39m)\n\u001b[1;32m---> 20\u001b[0m \u001b[38;5;28mprint\u001b[39m(\u001b[43mvalue\u001b[49m)\n",
      "\u001b[1;31mNameError\u001b[0m: name 'value' is not defined"
     ]
    }
   ],
   "source": [
    "# Handling the above using context manager decorator\n",
    "\n",
    "from contextlib import contextmanager\n",
    "\n",
    "@contextmanager\n",
    "def file(filename, method):\n",
    "    try:\n",
    "        f = open(filename, method)\n",
    "        print('file opened')\n",
    "        yield f\n",
    "    finally:\n",
    "        f.close()\n",
    "        print('file closed')\n",
    "    \n",
    "with file(\"requirements.txt\", \"r\") as f:\n",
    "    print('reading file')\n",
    "    for line in f.readlines():\n",
    "        print(line)\n",
    "        print('introducing errors ...')\n",
    "        print(value)"
   ]
  },
  {
   "cell_type": "code",
   "execution_count": null,
   "id": "573363ef",
   "metadata": {},
   "outputs": [],
   "source": []
  },
  {
   "cell_type": "markdown",
   "id": "d6b17432",
   "metadata": {},
   "source": [
    "## Another usecase of context manager"
   ]
  },
  {
   "cell_type": "code",
   "execution_count": 16,
   "id": "26a2c3e6",
   "metadata": {},
   "outputs": [
    {
     "name": "stdout",
     "output_type": "stream",
     "text": [
      "['.coverage', '.pytest_cache', 'src', 'tests']\n",
      "['logger.log', 'logger.py', '__pycache__']\n"
     ]
    }
   ],
   "source": [
    "import os\n",
    "from contextlib import contextmanager\n",
    "\n",
    "cwd = os.getcwd()\n",
    "os.chdir('Testing')\n",
    "print(os.listdir())\n",
    "os.chdir(cwd)\n",
    "\n",
    "cwd = os.getcwd()\n",
    "os.chdir('Logging')\n",
    "print(os.listdir())\n",
    "os.chdir(cwd)"
   ]
  },
  {
   "cell_type": "code",
   "execution_count": 17,
   "id": "270d198a",
   "metadata": {},
   "outputs": [
    {
     "name": "stdout",
     "output_type": "stream",
     "text": [
      "['.coverage', '.pytest_cache', 'src', 'tests']\n",
      "['logger.log', 'logger.py', '__pycache__']\n"
     ]
    }
   ],
   "source": [
    "@contextmanager\n",
    "def change_dir(destination_dir):\n",
    "    try:\n",
    "        cwd = os.getcwd()\n",
    "        os.chdir(destination_dir)\n",
    "        yield\n",
    "    finally:\n",
    "        os.chdir(cwd)\n",
    "    \n",
    "with change_dir('Testing'):\n",
    "    print(os.listdir())\n",
    "    \n",
    "with change_dir('Logging'):\n",
    "    print(os.listdir())"
   ]
  },
  {
   "cell_type": "code",
   "execution_count": null,
   "id": "5aa1b3c2",
   "metadata": {},
   "outputs": [],
   "source": []
  }
 ],
 "metadata": {
  "kernelspec": {
   "display_name": "Python 3 (ipykernel)",
   "language": "python",
   "name": "python3"
  },
  "language_info": {
   "codemirror_mode": {
    "name": "ipython",
    "version": 3
   },
   "file_extension": ".py",
   "mimetype": "text/x-python",
   "name": "python",
   "nbconvert_exporter": "python",
   "pygments_lexer": "ipython3",
   "version": "3.8.15"
  }
 },
 "nbformat": 4,
 "nbformat_minor": 5
}
