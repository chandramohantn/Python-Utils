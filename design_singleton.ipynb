{
 "cells": [
  {
   "cell_type": "code",
   "execution_count": 1,
   "id": "7aeef9f6",
   "metadata": {},
   "outputs": [],
   "source": [
    "from abc import ABCMeta, abstractstaticmethod"
   ]
  },
  {
   "cell_type": "code",
   "execution_count": null,
   "id": "7d8d8710",
   "metadata": {},
   "outputs": [],
   "source": []
  },
  {
   "cell_type": "code",
   "execution_count": null,
   "id": "eaf8d541",
   "metadata": {},
   "outputs": [],
   "source": [
    "class IPerson:\n",
    "    \n",
    "    @abstractstaticmethod\n",
    "    def print_data():\n",
    "        \"\"\" Implement in child class \"\"\""
   ]
  },
  {
   "cell_type": "code",
   "execution_count": 2,
   "id": "cd8c902c",
   "metadata": {},
   "outputs": [],
   "source": [
    "class PersonSingleton(IPerson):\n",
    "    \n",
    "    __instance = None\n",
    "    \n",
    "    @staticmethod\n",
    "    def get_instance():\n",
    "        if PersonSingleton.__instance == None:\n",
    "            PersonSingleton.__instance = PersonSingleton('default name', 7)\n",
    "        return PersonSingleton.__instance\n",
    "    \n",
    "    def __init__(self, name, age):\n",
    "        if PersonSingleton.__instance != None:\n",
    "            print(\"Singleton cannot be instantiated more than once!\")\n",
    "        else:\n",
    "            self.name = name\n",
    "            self.age = age\n",
    "            PersonSingleton.__instance = self\n",
    "        \n",
    "    @staticmethod\n",
    "    def print_data():\n",
    "        print(f\"Name of person is {PersonSingleton.__instance.name} and his age is {PersonSingleton.__instance.age}\")"
   ]
  },
  {
   "cell_type": "code",
   "execution_count": 3,
   "id": "5f055903",
   "metadata": {},
   "outputs": [
    {
     "name": "stdout",
     "output_type": "stream",
     "text": [
      "<__main__.PersonSingleton object at 0x000001D5E9C4BA90>\n",
      "Name of person is default name and his age is 7\n"
     ]
    }
   ],
   "source": [
    "p3 = PersonSingleton.get_instance()\n",
    "print(p3)\n",
    "p3.print_data()"
   ]
  },
  {
   "cell_type": "code",
   "execution_count": 4,
   "id": "9c1d4eec",
   "metadata": {},
   "outputs": [
    {
     "name": "stdout",
     "output_type": "stream",
     "text": [
      "Singleton cannot be instantiated more than once!\n",
      "<__main__.PersonSingleton object at 0x000001D5E9C4BD00>\n",
      "Name of person is default name and his age is 7\n"
     ]
    }
   ],
   "source": [
    "p = PersonSingleton('Andr moh', 10)\n",
    "print(p)\n",
    "p.print_data()"
   ]
  },
  {
   "cell_type": "code",
   "execution_count": 5,
   "id": "928e894d",
   "metadata": {},
   "outputs": [
    {
     "name": "stdout",
     "output_type": "stream",
     "text": [
      "<__main__.PersonSingleton object at 0x000001D5E9C4BA90>\n",
      "Name of person is default name and his age is 7\n"
     ]
    }
   ],
   "source": [
    "p2 = PersonSingleton.get_instance()\n",
    "print(p2)\n",
    "p2.print_data()"
   ]
  },
  {
   "cell_type": "code",
   "execution_count": 6,
   "id": "073ffd1f",
   "metadata": {},
   "outputs": [
    {
     "name": "stdout",
     "output_type": "stream",
     "text": [
      "Singleton cannot be instantiated more than once!\n",
      "<__main__.PersonSingleton object at 0x000001D5E9C4BB80>\n",
      "Name of person is default name and his age is 7\n"
     ]
    }
   ],
   "source": [
    "p1 = PersonSingleton('Handra moha', 20)\n",
    "print(p1)\n",
    "p1.print_data()"
   ]
  },
  {
   "cell_type": "code",
   "execution_count": null,
   "id": "92798a9f",
   "metadata": {},
   "outputs": [],
   "source": []
  }
 ],
 "metadata": {
  "kernelspec": {
   "display_name": "Python 3 (ipykernel)",
   "language": "python",
   "name": "python3"
  },
  "language_info": {
   "codemirror_mode": {
    "name": "ipython",
    "version": 3
   },
   "file_extension": ".py",
   "mimetype": "text/x-python",
   "name": "python",
   "nbconvert_exporter": "python",
   "pygments_lexer": "ipython3",
   "version": "3.8.15"
  }
 },
 "nbformat": 4,
 "nbformat_minor": 5
}
